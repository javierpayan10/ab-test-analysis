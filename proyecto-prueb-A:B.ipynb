{
 "cells": [
  {
   "cell_type": "markdown",
   "metadata": {},
   "source": [
    "# Descripción del proyecto"
   ]
  },
  {
   "cell_type": "markdown",
   "metadata": {},
   "source": [
    "Como analista de datos en una tienda online, trabajé junto al equipo de marketing para aumentar los ingresos del negocio. Este proyecto se enfocó en tres tareas clave:\n",
    "\n",
    "- Priorización de hipótesis de negocio mediante marcos de decisión (ICE y RICE).\n",
    "- Implementación y monitoreo de un test A/B, evaluando su impacto sobre métricas clave como el ingreso promedio por usuario y la tasa de conversión.\n",
    "- Análisis estadístico de resultados, utilizando pruebas de hipótesis para determinar la significancia de los resultados y tomar decisiones informadas.\n",
    "\n",
    "Este análisis permitió identificar cambios viables que podrían optimizar la experiencia del usuario y generar un mayor retorno de inversión.\n",
    "\n"
   ]
  },
  {
   "cell_type": "markdown",
   "metadata": {},
   "source": [
    "##  Inicialización"
   ]
  },
  {
   "cell_type": "code",
   "execution_count": 6,
   "metadata": {},
   "outputs": [],
   "source": [
    "# Cargamos librerias.\n",
    "import pandas as pd\n",
    "import numpy as np \n",
    "from matplotlib import pyplot as plt\n",
    "import seaborn as sns\n",
    "from scipy import stats as st\n",
    "import textwrap"
   ]
  },
  {
   "cell_type": "markdown",
   "metadata": {},
   "source": [
    "## Cargar datos"
   ]
  },
  {
   "cell_type": "code",
   "execution_count": 5,
   "metadata": {},
   "outputs": [],
   "source": [
    "# cargamos los archivos de datos.\n",
    "\n",
    "hipotesis = pd.read_csv('hypotheses_us.csv', delimiter=';')\n",
    "ordenes = pd.read_csv('orders_us.csv')\n",
    "visitas = pd.read_csv('visits_us.csv')\n",
    "ordenes_bruto = pd.read_csv('orders_us.csv')"
   ]
  },
  {
   "cell_type": "markdown",
   "metadata": {},
   "source": [
    "## Análisis exploratorio de datos "
   ]
  },
  {
   "cell_type": "code",
   "execution_count": 7,
   "metadata": {},
   "outputs": [
    {
     "data": {
      "text/html": [
       "<div>\n",
       "<style scoped>\n",
       "    .dataframe tbody tr th:only-of-type {\n",
       "        vertical-align: middle;\n",
       "    }\n",
       "\n",
       "    .dataframe tbody tr th {\n",
       "        vertical-align: top;\n",
       "    }\n",
       "\n",
       "    .dataframe thead th {\n",
       "        text-align: right;\n",
       "    }\n",
       "</style>\n",
       "<table border=\"1\" class=\"dataframe\">\n",
       "  <thead>\n",
       "    <tr style=\"text-align: right;\">\n",
       "      <th></th>\n",
       "      <th>Hypothesis</th>\n",
       "      <th>Reach</th>\n",
       "      <th>Impact</th>\n",
       "      <th>Confidence</th>\n",
       "      <th>Effort</th>\n",
       "    </tr>\n",
       "  </thead>\n",
       "  <tbody>\n",
       "    <tr>\n",
       "      <th>0</th>\n",
       "      <td>Add two new channels for attracting traffic. T...</td>\n",
       "      <td>3</td>\n",
       "      <td>10</td>\n",
       "      <td>8</td>\n",
       "      <td>6</td>\n",
       "    </tr>\n",
       "    <tr>\n",
       "      <th>1</th>\n",
       "      <td>Launch your own delivery service. This will sh...</td>\n",
       "      <td>2</td>\n",
       "      <td>5</td>\n",
       "      <td>4</td>\n",
       "      <td>10</td>\n",
       "    </tr>\n",
       "    <tr>\n",
       "      <th>2</th>\n",
       "      <td>Add product recommendation blocks to the store...</td>\n",
       "      <td>8</td>\n",
       "      <td>3</td>\n",
       "      <td>7</td>\n",
       "      <td>3</td>\n",
       "    </tr>\n",
       "    <tr>\n",
       "      <th>3</th>\n",
       "      <td>Change the category structure. This will incre...</td>\n",
       "      <td>8</td>\n",
       "      <td>3</td>\n",
       "      <td>3</td>\n",
       "      <td>8</td>\n",
       "    </tr>\n",
       "    <tr>\n",
       "      <th>4</th>\n",
       "      <td>Change the background color on the main page. ...</td>\n",
       "      <td>3</td>\n",
       "      <td>1</td>\n",
       "      <td>1</td>\n",
       "      <td>1</td>\n",
       "    </tr>\n",
       "    <tr>\n",
       "      <th>5</th>\n",
       "      <td>Add a customer review page. This will increase...</td>\n",
       "      <td>3</td>\n",
       "      <td>2</td>\n",
       "      <td>2</td>\n",
       "      <td>3</td>\n",
       "    </tr>\n",
       "    <tr>\n",
       "      <th>6</th>\n",
       "      <td>Show banners with current offers and sales on ...</td>\n",
       "      <td>5</td>\n",
       "      <td>3</td>\n",
       "      <td>8</td>\n",
       "      <td>3</td>\n",
       "    </tr>\n",
       "    <tr>\n",
       "      <th>7</th>\n",
       "      <td>Add a subscription form to all the main pages....</td>\n",
       "      <td>10</td>\n",
       "      <td>7</td>\n",
       "      <td>8</td>\n",
       "      <td>5</td>\n",
       "    </tr>\n",
       "    <tr>\n",
       "      <th>8</th>\n",
       "      <td>Launch a promotion that gives users discounts ...</td>\n",
       "      <td>1</td>\n",
       "      <td>9</td>\n",
       "      <td>9</td>\n",
       "      <td>5</td>\n",
       "    </tr>\n",
       "  </tbody>\n",
       "</table>\n",
       "</div>"
      ],
      "text/plain": [
       "                                          Hypothesis  Reach  Impact  \\\n",
       "0  Add two new channels for attracting traffic. T...      3      10   \n",
       "1  Launch your own delivery service. This will sh...      2       5   \n",
       "2  Add product recommendation blocks to the store...      8       3   \n",
       "3  Change the category structure. This will incre...      8       3   \n",
       "4  Change the background color on the main page. ...      3       1   \n",
       "5  Add a customer review page. This will increase...      3       2   \n",
       "6  Show banners with current offers and sales on ...      5       3   \n",
       "7  Add a subscription form to all the main pages....     10       7   \n",
       "8  Launch a promotion that gives users discounts ...      1       9   \n",
       "\n",
       "   Confidence  Effort  \n",
       "0           8       6  \n",
       "1           4      10  \n",
       "2           7       3  \n",
       "3           3       8  \n",
       "4           1       1  \n",
       "5           2       3  \n",
       "6           8       3  \n",
       "7           8       5  \n",
       "8           9       5  "
      ]
     },
     "execution_count": 7,
     "metadata": {},
     "output_type": "execute_result"
    }
   ],
   "source": [
    "# Preprocesamos los datos. \n",
    "hipotesis.head(10)"
   ]
  },
  {
   "cell_type": "code",
   "execution_count": 8,
   "metadata": {},
   "outputs": [
    {
     "name": "stdout",
     "output_type": "stream",
     "text": [
      "<class 'pandas.core.frame.DataFrame'>\n",
      "RangeIndex: 9 entries, 0 to 8\n",
      "Data columns (total 5 columns):\n",
      " #   Column      Non-Null Count  Dtype \n",
      "---  ------      --------------  ----- \n",
      " 0   Hypothesis  9 non-null      object\n",
      " 1   Reach       9 non-null      int64 \n",
      " 2   Impact      9 non-null      int64 \n",
      " 3   Confidence  9 non-null      int64 \n",
      " 4   Effort      9 non-null      int64 \n",
      "dtypes: int64(4), object(1)\n",
      "memory usage: 492.0+ bytes\n"
     ]
    }
   ],
   "source": [
    "hipotesis.info()"
   ]
  },
  {
   "cell_type": "code",
   "execution_count": 9,
   "metadata": {},
   "outputs": [],
   "source": [
    "# Convertimos en minusculas las columnas para estandarizar y mejorar claridad. \n",
    "\n",
    "hipotesis.columns = hipotesis.columns.str.lower()"
   ]
  },
  {
   "cell_type": "code",
   "execution_count": 10,
   "metadata": {},
   "outputs": [
    {
     "data": {
      "text/html": [
       "<div>\n",
       "<style scoped>\n",
       "    .dataframe tbody tr th:only-of-type {\n",
       "        vertical-align: middle;\n",
       "    }\n",
       "\n",
       "    .dataframe tbody tr th {\n",
       "        vertical-align: top;\n",
       "    }\n",
       "\n",
       "    .dataframe thead th {\n",
       "        text-align: right;\n",
       "    }\n",
       "</style>\n",
       "<table border=\"1\" class=\"dataframe\">\n",
       "  <thead>\n",
       "    <tr style=\"text-align: right;\">\n",
       "      <th></th>\n",
       "      <th>transactionId</th>\n",
       "      <th>visitorId</th>\n",
       "      <th>date</th>\n",
       "      <th>revenue</th>\n",
       "      <th>group</th>\n",
       "    </tr>\n",
       "  </thead>\n",
       "  <tbody>\n",
       "    <tr>\n",
       "      <th>0</th>\n",
       "      <td>3667963787</td>\n",
       "      <td>3312258926</td>\n",
       "      <td>2019-08-15</td>\n",
       "      <td>30.4</td>\n",
       "      <td>B</td>\n",
       "    </tr>\n",
       "    <tr>\n",
       "      <th>1</th>\n",
       "      <td>2804400009</td>\n",
       "      <td>3642806036</td>\n",
       "      <td>2019-08-15</td>\n",
       "      <td>15.2</td>\n",
       "      <td>B</td>\n",
       "    </tr>\n",
       "    <tr>\n",
       "      <th>2</th>\n",
       "      <td>2961555356</td>\n",
       "      <td>4069496402</td>\n",
       "      <td>2019-08-15</td>\n",
       "      <td>10.2</td>\n",
       "      <td>A</td>\n",
       "    </tr>\n",
       "    <tr>\n",
       "      <th>3</th>\n",
       "      <td>3797467345</td>\n",
       "      <td>1196621759</td>\n",
       "      <td>2019-08-15</td>\n",
       "      <td>155.1</td>\n",
       "      <td>B</td>\n",
       "    </tr>\n",
       "    <tr>\n",
       "      <th>4</th>\n",
       "      <td>2282983706</td>\n",
       "      <td>2322279887</td>\n",
       "      <td>2019-08-15</td>\n",
       "      <td>40.5</td>\n",
       "      <td>B</td>\n",
       "    </tr>\n",
       "  </tbody>\n",
       "</table>\n",
       "</div>"
      ],
      "text/plain": [
       "   transactionId   visitorId        date  revenue group\n",
       "0     3667963787  3312258926  2019-08-15     30.4     B\n",
       "1     2804400009  3642806036  2019-08-15     15.2     B\n",
       "2     2961555356  4069496402  2019-08-15     10.2     A\n",
       "3     3797467345  1196621759  2019-08-15    155.1     B\n",
       "4     2282983706  2322279887  2019-08-15     40.5     B"
      ]
     },
     "execution_count": 10,
     "metadata": {},
     "output_type": "execute_result"
    }
   ],
   "source": [
    "ordenes.head()"
   ]
  },
  {
   "cell_type": "code",
   "execution_count": 11,
   "metadata": {},
   "outputs": [
    {
     "name": "stdout",
     "output_type": "stream",
     "text": [
      "<class 'pandas.core.frame.DataFrame'>\n",
      "RangeIndex: 1197 entries, 0 to 1196\n",
      "Data columns (total 5 columns):\n",
      " #   Column         Non-Null Count  Dtype  \n",
      "---  ------         --------------  -----  \n",
      " 0   transactionId  1197 non-null   int64  \n",
      " 1   visitorId      1197 non-null   int64  \n",
      " 2   date           1197 non-null   object \n",
      " 3   revenue        1197 non-null   float64\n",
      " 4   group          1197 non-null   object \n",
      "dtypes: float64(1), int64(2), object(2)\n",
      "memory usage: 46.9+ KB\n"
     ]
    }
   ],
   "source": [
    "ordenes.info()"
   ]
  },
  {
   "cell_type": "code",
   "execution_count": 12,
   "metadata": {},
   "outputs": [
    {
     "name": "stdout",
     "output_type": "stream",
     "text": [
      "Filas duplicadas en ordenes: 0\n"
     ]
    }
   ],
   "source": [
    "print('Filas duplicadas en ordenes:', ordenes.duplicated().sum())"
   ]
  },
  {
   "cell_type": "code",
   "execution_count": 13,
   "metadata": {},
   "outputs": [],
   "source": [
    "# Cambiamos el nombre de las columnas para estandarizar y mejorar su claridad.\n",
    "\n",
    "ordenes.rename(columns={\n",
    "    'transactionId': 'transaction_id',\n",
    "    'visitorId': 'visitor_id',\n",
    "    'date': 'date',\n",
    "    'revenue': 'revenue',\n",
    "    'group': 'group'\n",
    "}, inplace=True)\n"
   ]
  },
  {
   "cell_type": "code",
   "execution_count": 14,
   "metadata": {},
   "outputs": [],
   "source": [
    "# La columna 'date' esta en formato object y la modificamos a cadena de formato de fecha.\n",
    "\n",
    "ordenes['date'] = pd.to_datetime(ordenes['date'])"
   ]
  },
  {
   "cell_type": "code",
   "execution_count": 15,
   "metadata": {},
   "outputs": [
    {
     "data": {
      "text/html": [
       "<div>\n",
       "<style scoped>\n",
       "    .dataframe tbody tr th:only-of-type {\n",
       "        vertical-align: middle;\n",
       "    }\n",
       "\n",
       "    .dataframe tbody tr th {\n",
       "        vertical-align: top;\n",
       "    }\n",
       "\n",
       "    .dataframe thead th {\n",
       "        text-align: right;\n",
       "    }\n",
       "</style>\n",
       "<table border=\"1\" class=\"dataframe\">\n",
       "  <thead>\n",
       "    <tr style=\"text-align: right;\">\n",
       "      <th></th>\n",
       "      <th>date</th>\n",
       "      <th>group</th>\n",
       "      <th>visits</th>\n",
       "    </tr>\n",
       "  </thead>\n",
       "  <tbody>\n",
       "    <tr>\n",
       "      <th>0</th>\n",
       "      <td>2019-08-01</td>\n",
       "      <td>A</td>\n",
       "      <td>719</td>\n",
       "    </tr>\n",
       "    <tr>\n",
       "      <th>1</th>\n",
       "      <td>2019-08-02</td>\n",
       "      <td>A</td>\n",
       "      <td>619</td>\n",
       "    </tr>\n",
       "    <tr>\n",
       "      <th>2</th>\n",
       "      <td>2019-08-03</td>\n",
       "      <td>A</td>\n",
       "      <td>507</td>\n",
       "    </tr>\n",
       "    <tr>\n",
       "      <th>3</th>\n",
       "      <td>2019-08-04</td>\n",
       "      <td>A</td>\n",
       "      <td>717</td>\n",
       "    </tr>\n",
       "    <tr>\n",
       "      <th>4</th>\n",
       "      <td>2019-08-05</td>\n",
       "      <td>A</td>\n",
       "      <td>756</td>\n",
       "    </tr>\n",
       "  </tbody>\n",
       "</table>\n",
       "</div>"
      ],
      "text/plain": [
       "         date group  visits\n",
       "0  2019-08-01     A     719\n",
       "1  2019-08-02     A     619\n",
       "2  2019-08-03     A     507\n",
       "3  2019-08-04     A     717\n",
       "4  2019-08-05     A     756"
      ]
     },
     "execution_count": 15,
     "metadata": {},
     "output_type": "execute_result"
    }
   ],
   "source": [
    "visitas.head()"
   ]
  },
  {
   "cell_type": "code",
   "execution_count": 12,
   "metadata": {},
   "outputs": [
    {
     "name": "stdout",
     "output_type": "stream",
     "text": [
      "<class 'pandas.core.frame.DataFrame'>\n",
      "RangeIndex: 62 entries, 0 to 61\n",
      "Data columns (total 3 columns):\n",
      " #   Column  Non-Null Count  Dtype \n",
      "---  ------  --------------  ----- \n",
      " 0   date    62 non-null     object\n",
      " 1   group   62 non-null     object\n",
      " 2   visits  62 non-null     int64 \n",
      "dtypes: int64(1), object(2)\n",
      "memory usage: 1.6+ KB\n"
     ]
    }
   ],
   "source": [
    "visitas.info()"
   ]
  },
  {
   "cell_type": "code",
   "execution_count": 13,
   "metadata": {},
   "outputs": [],
   "source": [
    "# La columna 'date' esta en formato object y la modificamos a cadena de formato de fecha.\n",
    "\n",
    "visitas['date'] = pd.to_datetime(visitas['date'])"
   ]
  },
  {
   "cell_type": "code",
   "execution_count": 14,
   "metadata": {},
   "outputs": [
    {
     "name": "stdout",
     "output_type": "stream",
     "text": [
      "Filas duplicadas en visitas: 0\n"
     ]
    }
   ],
   "source": [
    "print('Filas duplicadas en visitas:', visitas.duplicated().sum())"
   ]
  },
  {
   "cell_type": "code",
   "execution_count": 15,
   "metadata": {},
   "outputs": [
    {
     "name": "stdout",
     "output_type": "stream",
     "text": [
      "2019-08-01 00:00:00 2019-08-31 00:00:00\n",
      "2019-08-01 00:00:00 2019-08-31 00:00:00\n"
     ]
    }
   ],
   "source": [
    "# Rango de fechas para verificar que esten dentro del rango esperado.\n",
    "\n",
    "print(ordenes['date'].min(), ordenes['date'].max())\n",
    "print(visitas['date'].min(), visitas['date'].max())\n"
   ]
  },
  {
   "cell_type": "markdown",
   "metadata": {},
   "source": [
    "### Identificar usuarios en ambos grupos"
   ]
  },
  {
   "cell_type": "code",
   "execution_count": 17,
   "metadata": {},
   "outputs": [
    {
     "name": "stdout",
     "output_type": "stream",
     "text": [
      "Usuarios en ambos grupos: 116\n"
     ]
    }
   ],
   "source": [
    "# Identificar usuarios en ambos grupos\n",
    "usuarios_duplicados = ordenes.groupby('visitor_id')['group'].nunique()\n",
    "usuarios_ambos_grupos = usuarios_duplicados[usuarios_duplicados > 1]\n",
    "\n",
    "# Mostrar usuarios problemáticos\n",
    "print('Usuarios en ambos grupos:', usuarios_ambos_grupos.sum())"
   ]
  },
  {
   "cell_type": "code",
   "execution_count": 18,
   "metadata": {},
   "outputs": [],
   "source": [
    "# Eliminar usuarios que están en ambos grupos, ya que para realizar una prueba A/B deben ser grupos independientes.\n",
    "ordenes = ordenes[~ordenes['visitor_id'].isin(usuarios_ambos_grupos.index)]\n"
   ]
  },
  {
   "cell_type": "markdown",
   "metadata": {},
   "source": [
    "##  Priorizar hipótesis"
   ]
  },
  {
   "cell_type": "code",
   "execution_count": 19,
   "metadata": {},
   "outputs": [],
   "source": [
    "# Aplicar el framework ICE para priorizar hipótesis. Ordenarlas en orden descendente de prioridad.\n",
    "hipotesis['ice'] = ((hipotesis['impact'] * hipotesis['confidence']) / hipotesis['effort']).round(1)"
   ]
  },
  {
   "cell_type": "code",
   "execution_count": 19,
   "metadata": {},
   "outputs": [],
   "source": [
    "# Aplicar el framework RICE para priorizar hipótesis. Ordenarlas en orden descendente de prioridad.\n",
    "hipotesis['rice'] = ((hipotesis['reach'] * hipotesis['impact'] * hipotesis['confidence']) / hipotesis['effort']).round(1)"
   ]
  },
  {
   "cell_type": "code",
   "execution_count": 20,
   "metadata": {},
   "outputs": [
    {
     "name": "stdout",
     "output_type": "stream",
     "text": [
      "                                          hypothesis   ice\n",
      "8  Launch a promotion that gives users discounts ...  16.2\n",
      "0  Add two new channels for attracting traffic. T...  13.3\n",
      "7  Add a subscription form to all the main pages....  11.2\n",
      "6  Show banners with current offers and sales on ...   8.0\n",
      "2  Add product recommendation blocks to the store...   7.0\n",
      "1  Launch your own delivery service. This will sh...   2.0\n",
      "5  Add a customer review page. This will increase...   1.3\n",
      "3  Change the category structure. This will incre...   1.1\n",
      "4  Change the background color on the main page. ...   1.0\n",
      "\n",
      "                                          hypothesis   rice\n",
      "7  Add a subscription form to all the main pages....  112.0\n",
      "2  Add product recommendation blocks to the store...   56.0\n",
      "0  Add two new channels for attracting traffic. T...   40.0\n",
      "6  Show banners with current offers and sales on ...   40.0\n",
      "8  Launch a promotion that gives users discounts ...   16.2\n",
      "3  Change the category structure. This will incre...    9.0\n",
      "1  Launch your own delivery service. This will sh...    4.0\n",
      "5  Add a customer review page. This will increase...    4.0\n",
      "4  Change the background color on the main page. ...    3.0\n"
     ]
    }
   ],
   "source": [
    "# Mostramos los resultados de 'ICE' y 'RICE' en orden descendente.\n",
    "print(hipotesis[['hypothesis', 'ice']].sort_values(by=['ice'], ascending=False))\n",
    "print()\n",
    "print(hipotesis[['hypothesis', 'rice']].sort_values(by=['rice'], ascending=False))\n",
    "\n"
   ]
  },
  {
   "cell_type": "code",
   "execution_count": 21,
   "metadata": {},
   "outputs": [
    {
     "data": {
      "text/html": [
       "<div>\n",
       "<style scoped>\n",
       "    .dataframe tbody tr th:only-of-type {\n",
       "        vertical-align: middle;\n",
       "    }\n",
       "\n",
       "    .dataframe tbody tr th {\n",
       "        vertical-align: top;\n",
       "    }\n",
       "\n",
       "    .dataframe thead th {\n",
       "        text-align: right;\n",
       "    }\n",
       "</style>\n",
       "<table border=\"1\" class=\"dataframe\">\n",
       "  <thead>\n",
       "    <tr style=\"text-align: right;\">\n",
       "      <th></th>\n",
       "      <th>hypothesis</th>\n",
       "      <th>reach</th>\n",
       "      <th>impact</th>\n",
       "      <th>confidence</th>\n",
       "      <th>effort</th>\n",
       "      <th>ice</th>\n",
       "      <th>rice</th>\n",
       "      <th>ice_rank</th>\n",
       "      <th>rice_rank</th>\n",
       "    </tr>\n",
       "  </thead>\n",
       "  <tbody>\n",
       "    <tr>\n",
       "      <th>0</th>\n",
       "      <td>Add two new channels for attracting traffic. T...</td>\n",
       "      <td>3</td>\n",
       "      <td>10</td>\n",
       "      <td>8</td>\n",
       "      <td>6</td>\n",
       "      <td>13.3</td>\n",
       "      <td>40.0</td>\n",
       "      <td>2.0</td>\n",
       "      <td>3.0</td>\n",
       "    </tr>\n",
       "    <tr>\n",
       "      <th>1</th>\n",
       "      <td>Launch your own delivery service. This will sh...</td>\n",
       "      <td>2</td>\n",
       "      <td>5</td>\n",
       "      <td>4</td>\n",
       "      <td>10</td>\n",
       "      <td>2.0</td>\n",
       "      <td>4.0</td>\n",
       "      <td>6.0</td>\n",
       "      <td>6.0</td>\n",
       "    </tr>\n",
       "    <tr>\n",
       "      <th>2</th>\n",
       "      <td>Add product recommendation blocks to the store...</td>\n",
       "      <td>8</td>\n",
       "      <td>3</td>\n",
       "      <td>7</td>\n",
       "      <td>3</td>\n",
       "      <td>7.0</td>\n",
       "      <td>56.0</td>\n",
       "      <td>5.0</td>\n",
       "      <td>2.0</td>\n",
       "    </tr>\n",
       "    <tr>\n",
       "      <th>3</th>\n",
       "      <td>Change the category structure. This will incre...</td>\n",
       "      <td>8</td>\n",
       "      <td>3</td>\n",
       "      <td>3</td>\n",
       "      <td>8</td>\n",
       "      <td>1.1</td>\n",
       "      <td>9.0</td>\n",
       "      <td>8.0</td>\n",
       "      <td>5.0</td>\n",
       "    </tr>\n",
       "    <tr>\n",
       "      <th>4</th>\n",
       "      <td>Change the background color on the main page. ...</td>\n",
       "      <td>3</td>\n",
       "      <td>1</td>\n",
       "      <td>1</td>\n",
       "      <td>1</td>\n",
       "      <td>1.0</td>\n",
       "      <td>3.0</td>\n",
       "      <td>9.0</td>\n",
       "      <td>7.0</td>\n",
       "    </tr>\n",
       "    <tr>\n",
       "      <th>5</th>\n",
       "      <td>Add a customer review page. This will increase...</td>\n",
       "      <td>3</td>\n",
       "      <td>2</td>\n",
       "      <td>2</td>\n",
       "      <td>3</td>\n",
       "      <td>1.3</td>\n",
       "      <td>4.0</td>\n",
       "      <td>7.0</td>\n",
       "      <td>6.0</td>\n",
       "    </tr>\n",
       "    <tr>\n",
       "      <th>6</th>\n",
       "      <td>Show banners with current offers and sales on ...</td>\n",
       "      <td>5</td>\n",
       "      <td>3</td>\n",
       "      <td>8</td>\n",
       "      <td>3</td>\n",
       "      <td>8.0</td>\n",
       "      <td>40.0</td>\n",
       "      <td>4.0</td>\n",
       "      <td>3.0</td>\n",
       "    </tr>\n",
       "    <tr>\n",
       "      <th>7</th>\n",
       "      <td>Add a subscription form to all the main pages....</td>\n",
       "      <td>10</td>\n",
       "      <td>7</td>\n",
       "      <td>8</td>\n",
       "      <td>5</td>\n",
       "      <td>11.2</td>\n",
       "      <td>112.0</td>\n",
       "      <td>3.0</td>\n",
       "      <td>1.0</td>\n",
       "    </tr>\n",
       "    <tr>\n",
       "      <th>8</th>\n",
       "      <td>Launch a promotion that gives users discounts ...</td>\n",
       "      <td>1</td>\n",
       "      <td>9</td>\n",
       "      <td>9</td>\n",
       "      <td>5</td>\n",
       "      <td>16.2</td>\n",
       "      <td>16.2</td>\n",
       "      <td>1.0</td>\n",
       "      <td>4.0</td>\n",
       "    </tr>\n",
       "  </tbody>\n",
       "</table>\n",
       "</div>"
      ],
      "text/plain": [
       "                                          hypothesis  reach  impact  \\\n",
       "0  Add two new channels for attracting traffic. T...      3      10   \n",
       "1  Launch your own delivery service. This will sh...      2       5   \n",
       "2  Add product recommendation blocks to the store...      8       3   \n",
       "3  Change the category structure. This will incre...      8       3   \n",
       "4  Change the background color on the main page. ...      3       1   \n",
       "5  Add a customer review page. This will increase...      3       2   \n",
       "6  Show banners with current offers and sales on ...      5       3   \n",
       "7  Add a subscription form to all the main pages....     10       7   \n",
       "8  Launch a promotion that gives users discounts ...      1       9   \n",
       "\n",
       "   confidence  effort   ice   rice  ice_rank  rice_rank  \n",
       "0           8       6  13.3   40.0       2.0        3.0  \n",
       "1           4      10   2.0    4.0       6.0        6.0  \n",
       "2           7       3   7.0   56.0       5.0        2.0  \n",
       "3           3       8   1.1    9.0       8.0        5.0  \n",
       "4           1       1   1.0    3.0       9.0        7.0  \n",
       "5           2       3   1.3    4.0       7.0        6.0  \n",
       "6           8       3   8.0   40.0       4.0        3.0  \n",
       "7           8       5  11.2  112.0       3.0        1.0  \n",
       "8           9       5  16.2   16.2       1.0        4.0  "
      ]
     },
     "execution_count": 26,
     "metadata": {},
     "output_type": "execute_result"
    }
   ],
   "source": [
    "# Asignar rankings basados en ICE y RICE.\n",
    "hipotesis['ice_rank'] = hipotesis['ice'].rank(ascending=False, method='dense')\n",
    "hipotesis['rice_rank'] = hipotesis['rice'].rank(ascending=False, method='dense')\n",
    "\n",
    "# Crear un DataFrame con los resultados ordenados.\n",
    "hipotesis "
   ]
  },
  {
   "cell_type": "code",
   "execution_count": 22,
   "metadata": {},
   "outputs": [
    {
     "name": "stdout",
     "output_type": "stream",
     "text": [
      "Hipotesis priorizada por su puntaje mas alto en RICE: Add a subscription form to all the main pages. This will help you compile a mailing list\n"
     ]
    }
   ],
   "source": [
    "print('Hipotesis priorizada por su puntaje mas alto en RICE:', hipotesis['hypothesis'][7])"
   ]
  },
  {
   "cell_type": "markdown",
   "metadata": {},
   "source": [
    "**Notas:**\n",
    "\n",
    "\n",
    "ICE (Impact, Confidence, Effort):\n",
    "Priorizó hipótesis con el mejor balance entre impacto y confianza en relación al esfuerzo necesario. Estas hipótesis son ideales para implementar rápidamente y generar resultados efectivos.\n",
    "\n",
    "\n",
    "RICE (Reach, Impact, Confidence, Effort):\n",
    "Introducir el alcance (Reach) cambió el enfoque hacia hipótesis que afectan a un mayor número de usuarios, incluso si su impacto y confianza no son los más altos.\n",
    "\n",
    "Decisión final:\n",
    "\n",
    "La hipótesis \"Add a subscription form to all the main pages\" fue priorizada debido a su puntaje más alto en RICE, lo que indica un alto impacto potencial en un amplio número de usuarios.\n",
    "\n",
    "Este análisis nos permitió identificar una hipótesis con el mayor potencial para aumentar los ingresos, considerando tanto el esfuerzo necesario como el alcance y el impacto esperado. Esto asegura que las decisiones estratégicas estén respaldadas por un enfoque cuantitativo.\n"
   ]
  },
  {
   "cell_type": "markdown",
   "metadata": {},
   "source": [
    "##  Análisis del test A/B"
   ]
  },
  {
   "cell_type": "markdown",
   "metadata": {},
   "source": [
    "###  Representaremos gráficamente el ingreso acumulado por grupo\n"
   ]
  },
  {
   "cell_type": "code",
   "execution_count": 23,
   "metadata": {},
   "outputs": [],
   "source": [
    "# Vamos a crear una matriz con valores únicos de parejas fecha-grupo con el método.\n",
    "\n",
    "dates_groups = ordenes[['date', 'group']].drop_duplicates()\n",
    "\n",
    "# Con este código, es como si hubiéramos estado calculando los resultados de nuestra prueba todos los días hasta la fecha actual y almacenándolos en las filas.\n",
    "\n",
    "ordenes_acumuladas = dates_groups.apply(\n",
    "    lambda x: ordenes[\n",
    "        np.logical_and(\n",
    "            ordenes['date'] <= x['date'], ordenes['group'] == x['group']\n",
    "        )\n",
    "    ].agg(\n",
    "        {\n",
    "            'date': 'max',\n",
    "            'group': 'max',\n",
    "            'transaction_id': pd.Series.nunique,\n",
    "            'visitor_id': pd.Series.nunique,\n",
    "            'revenue': 'sum',\n",
    "        }\n",
    "    ),\n",
    "    axis=1,\n",
    ").sort_values(by=['date', 'group'])\n",
    "\n"
   ]
  },
  {
   "cell_type": "code",
   "execution_count": 24,
   "metadata": {},
   "outputs": [
    {
     "data": {
      "image/png": "[encoded data removed]",
      "text/plain": [
       "<Figure size 1200x600 with 1 Axes>"
      ]
     },
     "metadata": {},
     "output_type": "display_data"
    }
   ],
   "source": [
    "# Separamos los datos del grupo 'A' y 'B' para poder graficar\n",
    "\n",
    "ordenes_A = ordenes_acumuladas[ordenes_acumuladas['group']== 'A']\n",
    "\n",
    "ordenes_B = ordenes_acumuladas[ordenes_acumuladas['group']== 'B']\n",
    "\n",
    "# Representamos gráficamente el ingreso acumulado por grupo.\n",
    "\n",
    "plt.figure(figsize=(12,6))\n",
    "\n",
    "# Graficar los ingresos acumulados del grupo A\n",
    "plt.plot(ordenes_A['date'], ordenes_A['revenue'], label='Grupo A', marker='o')\n",
    "\n",
    "# Graficar los ingresos acumulados del grupo B\n",
    "plt.plot(ordenes_B['date'], ordenes_B['revenue'], label='Grupo B', marker='o')\n",
    "\n",
    "plt.title('Ingreso Acumulado por Grupo (A/B)', fontsize=15)\n",
    "plt.xlabel('Fecha', fontsize=12)\n",
    "plt.ylabel('Ingreso Acumulado', fontsize=12)\n",
    "plt.legend()\n",
    "plt.grid(True)\n",
    "\n",
    "plt.show()\n",
    "\n"
   ]
  },
  {
   "cell_type": "markdown",
   "metadata": {},
   "source": [
    "**Notas:** \n",
    "\n",
    "Los datos sugieren que el grupo B es superior en términos de generación de ingresos acumulados. Esto indica que la estrategia implementada en este grupo debería considerarse para su implementación general.\n",
    "\n",
    "Sin embargo, antes de tomar decisiones finales, sería importante realizar una prueba estadística para determinar si la diferencia observada es significativa o si puede atribuirse a la variabilidad aleatoria."
   ]
  },
  {
   "cell_type": "markdown",
   "metadata": {},
   "source": [
    "## Representaremos gráficamente el tamaño de pedido promedio acumulado por grupo"
   ]
  },
  {
   "cell_type": "code",
   "execution_count": 25,
   "metadata": {},
   "outputs": [],
   "source": [
    "# Renombramos las columnas para mejor intepretacion de los datos.\n",
    "ordenes_acumuladas.columns = ['date', 'group', 'cumulative_transactions', 'cumulative_visitors', 'cumulative_revenue']"
   ]
  },
  {
   "cell_type": "code",
   "execution_count": 26,
   "metadata": {},
   "outputs": [
    {
     "data": {
      "image/png": "[encoded data removed]",
      "text/plain": [
       "<Figure size 1200x600 with 1 Axes>"
      ]
     },
     "metadata": {},
     "output_type": "display_data"
    }
   ],
   "source": [
    "# Calcular el tamaño de pedido promedio acumulado.\n",
    "\n",
    "ordenes_acumuladas['avg_order_size'] = (ordenes_acumuladas['cumulative_revenue'] / ordenes_acumuladas['cumulative_transactions']).round(1)\n",
    "\n",
    "# Representamos gráficamente el tamaño de pedido promedio acumulado por grupo.\n",
    "\n",
    "# Separar los datos por grupo A y B\n",
    "orders_A = ordenes_acumuladas[ordenes_acumuladas['group'] == 'A']\n",
    "orders_B = ordenes_acumuladas[ordenes_acumuladas['group'] == 'B']\n",
    "\n",
    "# Configurar el gráfico.\n",
    "plt.figure(figsize=(12, 6))\n",
    "\n",
    "# Graficar el tamaño de pedido promedio acumulado para el grupo A.\n",
    "plt.plot(orders_A['date'], orders_A['avg_order_size'], label='Group A', marker='o')\n",
    "\n",
    "# Graficar el tamaño de pedido promedio acumulado para el grupo B.\n",
    "plt.plot(orders_B['date'], orders_B['avg_order_size'], label='Group B', marker='o')\n",
    "\n",
    "\n",
    "plt.title('Tamaño de Pedido Promedio Acumulado (A/B)')\n",
    "plt.xlabel('Fecha')\n",
    "plt.ylabel('Cumulative Average Order Size', fontsize=12)\n",
    "plt.legend()\n",
    "plt.grid(True)\n",
    "\n",
    "# Mostrar el gráfico.\n",
    "plt.show()\n",
    "\n"
   ]
  },
  {
   "cell_type": "markdown",
   "metadata": {},
   "source": [
    "**Notas:**\n",
    "\n",
    "Durante el periodo observado (agosto de 2019), el Grupo B muestra un incremento notable y sostenido en el tamaño promedio de los pedidos, especialmente a partir del 18 de agosto, donde se observa un salto abrupto y una tendencia consistentemente superior al Grupo A.\n",
    "\n",
    "Por el contrario, el Grupo A mantiene un crecimiento más gradual y estable, sin cambios bruscos."
   ]
  },
  {
   "cell_type": "markdown",
   "metadata": {},
   "source": [
    "## Representamos gráficamente la diferencia relativa en el tamaño de pedido promedio acumulado para el grupo B en comparación con el grupo A. Haz conclusiones y conjeturas"
   ]
  },
  {
   "cell_type": "code",
   "execution_count": 34,
   "metadata": {},
   "outputs": [],
   "source": [
    "# Combinar los datos de los grupos A y B por la columna 'date'.\n",
    "\n",
    "merged_A_B = orders_A[['date', 'avg_order_size']].merge(\n",
    "    orders_B[['date', 'avg_order_size']], on='date',\n",
    "    suffixes=('_A', '_B'))\n",
    "\n",
    "# Calcular la diferencia relativa.\n",
    "\n",
    "merged_A_B['relative_difference'] = ((merged_A_B['avg_order_size_B'] - merged_A_B['avg_order_size_A']) / merged_A_B['avg_order_size_A']) * 100"
   ]
  },
  {
   "cell_type": "code",
   "execution_count": 35,
   "metadata": {},
   "outputs": [
    {
     "data": {
      "image/png": "[encoded data removed]",
      "text/plain": [
       "<Figure size 1200x600 with 1 Axes>"
      ]
     },
     "metadata": {},
     "output_type": "display_data"
    }
   ],
   "source": [
    "# Graficamos.\n",
    "\n",
    "plt.figure(figsize=(12,6))\n",
    "plt.plot(merged_A_B['date'], merged_A_B['relative_difference'], marker='o', label='Diferencia Relativa (B vs. A)')\n",
    "\n",
    "plt.title('Diferencia Relativa en el Tamaño Promedio Acumulado de Pedido (B vs. A)')\n",
    "plt.xlabel('Fecha')\n",
    "plt.ylabel('Diferencia Relativa (%)')\n",
    "plt.legend()\n",
    "plt.grid(True)\n",
    "\n",
    "plt.tight_layout()\n",
    "plt.show()\n",
    "\n"
   ]
  },
  {
   "cell_type": "markdown",
   "metadata": {},
   "source": [
    "**Notas:**\n",
    "\n",
    "El grupo B inicialmente tuvo un tamaño promedio de pedido menor al grupo A, pero a partir del 5 de agosto mostró un rendimiento superior, alcanzando picos significativos alrededor del 17 de agosto. Esto indica que la estrategia aplicada al grupo B fue más efectiva en ciertos períodos, aunque con fluctuaciones. Se recomienda investigar los picos y validar estadísticamente las diferencias observadas para confirmar la eficacia de la estrategia del grupo B."
   ]
  },
  {
   "cell_type": "markdown",
   "metadata": {},
   "source": [
    "## Calcula la tasa de conversión de cada grupo como la relación entre los pedidos y el número de visitas de cada día\n"
   ]
  },
  {
   "cell_type": "code",
   "execution_count": 37,
   "metadata": {},
   "outputs": [],
   "source": [
    "# Calcular la tasa de conversión para cada grupo.\n",
    "\n",
    "ordenes_acumuladas['conversion_rate'] = ((ordenes_acumuladas['cumulative_transactions'] / ordenes_acumuladas['cumulative_visitors']) * 100).round(1)\n"
   ]
  },
  {
   "cell_type": "code",
   "execution_count": 38,
   "metadata": {},
   "outputs": [
    {
     "data": {
      "image/png": "[encoded data removed]",
      "text/plain": [
       "<Figure size 1200x600 with 1 Axes>"
      ]
     },
     "metadata": {},
     "output_type": "display_data"
    }
   ],
   "source": [
    "# Graficamos la tasa de conversión.\n",
    "\n",
    "# Separar los datos de los grupos A y B.\n",
    "tasa_conversion_A = ordenes_acumuladas[ordenes_acumuladas['group'] == 'A']\n",
    "tasa_conversion_B = ordenes_acumuladas[ordenes_acumuladas['group'] == 'B']\n",
    "\n",
    "\n",
    "plt.figure(figsize=(12, 6))\n",
    "plt.plot(tasa_conversion_A['date'], tasa_conversion_A['conversion_rate'], label='Grupo A', marker='o')\n",
    "plt.plot(tasa_conversion_B['date'], tasa_conversion_B['conversion_rate'], label='Grupo B', marker='o')\n",
    "\n",
    "plt.title('Tasa de Conversión Diaria por Grupo (A/B)')\n",
    "plt.xlabel('Fecha')\n",
    "plt.ylabel('Tasa de Conversión (%)')\n",
    "plt.legend(title='Grupo')\n",
    "plt.grid(True)\n",
    "\n",
    "plt.show()\n",
    "\n",
    "\n",
    "\n",
    "\n"
   ]
  },
  {
   "cell_type": "markdown",
   "metadata": {},
   "source": [
    "**Notas:** \n",
    "\n",
    "El grupo A comenzó con una tasa de conversión más alta, pero experimentó una disminución significativa antes de estabilizarse. El grupo B, aunque tuvo tasas de conversión más bajas durante todo el período, mostró mayor consistencia y cerró la brecha hacia el final."
   ]
  },
  {
   "cell_type": "markdown",
   "metadata": {},
   "source": [
    "## Traza un gráfico de dispersión del número de pedidos por usuario"
   ]
  },
  {
   "cell_type": "code",
   "execution_count": 40,
   "metadata": {},
   "outputs": [],
   "source": [
    "# Calcular el número de pedidos por usuario.\n",
    "\n",
    "pedidos_por_usuario = ordenes.groupby('visitor_id')['transaction_id'].count().reset_index()\n",
    "\n",
    "pedidos_por_usuario.columns = ['visitor_id', 'total_orders']\n"
   ]
  },
  {
   "cell_type": "code",
   "execution_count": 41,
   "metadata": {},
   "outputs": [
    {
     "data": {
      "image/png": "[encoded data removed]",
      "text/plain": [
       "<Figure size 1200x600 with 1 Axes>"
      ]
     },
     "metadata": {},
     "output_type": "display_data"
    }
   ],
   "source": [
    "# Graficamos el numero de pedidos por usuario.\n",
    "\n",
    "plt.figure(figsize=(12,6))\n",
    "plt.scatter(pedidos_por_usuario['visitor_id'], pedidos_por_usuario['total_orders'])\n",
    "\n",
    "plt.title('Dispersion del Numero de Pedidos por Usuario')\n",
    "plt.xlabel('ID del Usuario')\n",
    "plt.ylabel('Numero de Pedidos')\n",
    "plt.grid(True)\n",
    "\n",
    "plt.show()\n",
    "\n",
    "\n"
   ]
  },
  {
   "cell_type": "markdown",
   "metadata": {},
   "source": [
    "**Notas:** \n",
    "\n",
    "La mayoría de los usuarios realizaron un solo pedido, como lo indica la gran densidad de puntos en el nivel de 1 en el eje Y. Solo unos pocos usuarios realizaron 2 o 3 pedidos, lo que sugiere que los clientes recurrentes son una minoría.\n",
    "\n",
    "Los usuarios que realizan más de un pedido podrían representar clientes más leales o responder a estrategias específicas, como promociones. Sería útil analizar qué factores motivan a estos usuarios a repetir pedidos para fomentar esta conducta en otros."
   ]
  },
  {
   "cell_type": "markdown",
   "metadata": {},
   "source": [
    "## Calcula los percentiles 95 y 99 del número de pedidos por usuario"
   ]
  },
  {
   "cell_type": "code",
   "execution_count": 47,
   "metadata": {},
   "outputs": [
    {
     "name": "stdout",
     "output_type": "stream",
     "text": [
      "percentil_95 del numero de pedidos por usuario: 1.0\n",
      "percentil_99 del numero de pedidos por usuario: 2.0\n",
      "\n",
      "Conclusion:\n",
      "\n",
      "Cualquier usuario con más de 2 pedidos se consideraría una anomalía.\n",
      "ya que el percentil 99 corresponde a 2 pedidos.\n",
      "Este punto indica que solo el 1% de los usuarios realiza más de 2 pedidos, por lo que son casos atípicos que deben analizarse en detalle.\n"
     ]
    }
   ],
   "source": [
    "# Calcular los percentiles 95 y 99.\n",
    "\n",
    "percentil_95 = np.percentile(pedidos_por_usuario['total_orders'], 95)\n",
    "percentil_99 = np.percentile(pedidos_por_usuario['total_orders'], 99)\n",
    "\n",
    "print('percentil_95 del numero de pedidos por usuario:', percentil_95)\n",
    "print('percentil_99 del numero de pedidos por usuario:', percentil_99)\n",
    "print()\n",
    "\n",
    "print('Conclusion:')\n",
    "\n",
    "print()\n",
    "print(\"\"\"Cualquier usuario con más de 2 pedidos se consideraría una anomalía.\n",
    "ya que el percentil 99 corresponde a 2 pedidos.\n",
    "Este punto indica que solo el 1% de los usuarios realiza más de 2 pedidos, por lo que son casos atípicos que deben analizarse en detalle.\"\"\")\n"
   ]
  },
  {
   "cell_type": "markdown",
   "metadata": {},
   "source": [
    "## Traza un gráfico de dispersión de los precios de los pedidos"
   ]
  },
  {
   "cell_type": "code",
   "execution_count": 42,
   "metadata": {},
   "outputs": [
    {
     "data": {
      "image/png": "[encoded data removed]",
      "text/plain": [
       "<Figure size 1200x600 with 1 Axes>"
      ]
     },
     "metadata": {},
     "output_type": "display_data"
    }
   ],
   "source": [
    "# Graficamos los precios de los pedidos.\n",
    "\n",
    "plt.figure(figsize=(12,6))\n",
    "plt.scatter(ordenes['transaction_id'], ordenes['revenue'], alpha=0.5)\n",
    "plt.title('Precio de los Pedidos')\n",
    "plt.xlabel('Pedidos')\n",
    "plt.ylabel('Precio del Pedido')\n",
    "plt.show()"
   ]
  },
  {
   "cell_type": "code",
   "execution_count": 44,
   "metadata": {},
   "outputs": [
    {
     "data": {
      "image/png": "[encoded data removed]",
      "text/plain": [
       "<Figure size 1200x600 with 1 Axes>"
      ]
     },
     "metadata": {},
     "output_type": "display_data"
    }
   ],
   "source": [
    "# Ajustamos el rango a 4000, para poder vizucalizar mejor.\n",
    "\n",
    "plt.figure(figsize=(12, 6))\n",
    "plt.scatter(ordenes['transaction_id'], ordenes['revenue'], alpha=0.5)\n",
    "plt.ylim(0, 4000)  \n",
    "plt.title('Precio de los Pedidos')\n",
    "plt.xlabel('Pedidos')\n",
    "plt.ylabel('Precio del Pedido')\n",
    "plt.tight_layout()\n",
    "plt.show()\n"
   ]
  },
  {
   "cell_type": "markdown",
   "metadata": {},
   "source": [
    "**Notas:**\n",
    "\n",
    "El gráfico muestra una gran cantidad de pedidos con precios relativamente bajos (mayoritariamente por debajo de $500), mientras que unos pocos pedidos se destacan con precios significativamente más altos, incluso superando los $3,000.\n",
    "\n",
    "Esto indica la presencia de outliers o valores atípicos en el precio de los pedidos, lo cual podría afectar el promedio general. La distribución sugiere que la mayoría de las transacciones tienen un comportamiento concentrado, pero existen algunos pedidos inusuales con montos elevados."
   ]
  },
  {
   "cell_type": "markdown",
   "metadata": {},
   "source": [
    "## Calcula los percentiles 95 y 99 de los precios de los pedidos"
   ]
  },
  {
   "cell_type": "code",
   "execution_count": 45,
   "metadata": {},
   "outputs": [
    {
     "name": "stdout",
     "output_type": "stream",
     "text": [
      "percentil_95 del precio de los pedidos: 414.275\n",
      "percentil_99 del predio de los pedidos: 830.3\n",
      "\n",
      "Conclusion:\n",
      "\n",
      "El 95% de los pedidos tienen precios menores o iguales a 414.28, mientras que el 99% de los pedidos tienen precios menores o iguales a 830.30. Esto indica que la mayoría de los pedidos están en un rango de precios moderado, y solo un pequeño porcentaje de pedidos tienen precios significativamente más altos, lo que los convierte en valores atípicos.\n",
      "Recomendación: Investigar los pedidos que superan el percentil 99 para confirmar su validez y explorar si representan una oportunidad para aumentar el ticket promedio o fidelizar a los clientes de alto valor.\n"
     ]
    }
   ],
   "source": [
    "# Calculamos los percentiles 95 y 99 de los precios de los pedidos.\n",
    "\n",
    "percentil_95 = np.percentile(ordenes['revenue'], 95)\n",
    "percentil_99 = np.percentile(ordenes['revenue'], 99)\n",
    "\n",
    "print('percentil_95 del precio de los pedidos:', percentil_95)\n",
    "print('percentil_99 del predio de los pedidos:', percentil_99)\n",
    "print()\n",
    "\n",
    "print('Conclusion:')\n",
    "print()\n",
    "print('El 95% de los pedidos tienen precios menores o iguales a 414.28, mientras que el 99% de los pedidos tienen precios menores o iguales a 830.30. Esto indica que la mayoría de los pedidos están en un rango de precios moderado, y solo un pequeño porcentaje de pedidos tienen precios significativamente más altos, lo que los convierte en valores atípicos.')\n",
    "print('Recomendación: Investigar los pedidos que superan el percentil 99 para confirmar su validez y explorar si representan una oportunidad para aumentar el ticket promedio o fidelizar a los clientes de alto valor.')"
   ]
  },
  {
   "cell_type": "markdown",
   "metadata": {},
   "source": [
    "## Encuentra la significancia estadística de la diferencia en la conversión entre los grupos utilizando los datos en bruto"
   ]
  },
  {
   "cell_type": "code",
   "execution_count": 43,
   "metadata": {},
   "outputs": [
    {
     "name": "stdout",
     "output_type": "stream",
     "text": [
      "p-valor (datos en bruto): 0.08587216033007773\n",
      "Conclusión (datos en bruto): No se pudo rechazar la hipótesis nula: no hay evidencia suficiente para concluir una diferencia significativa.\n",
      "\n",
      "Los datos sugieren que las estrategias aplicadas a los grupos A y B tienen un impacto similar en las tasas de conversión. Esto podría deberse a que ambas estrategias no son lo suficientemente diferentes para provocar un cambio en el comportamiento de los usuarios.\n"
     ]
    }
   ],
   "source": [
    "ordenes_bruto['date'] = pd.to_datetime(ordenes_bruto['date'])\n",
    "\n",
    "# Calcular el número de pedidos diarios por grupo.\n",
    "\n",
    "pedidos_diarios_bruto = ordenes_bruto.groupby(['date', 'group'], as_index=False).agg({'transactionId': 'count'})\n",
    "pedidos_diarios_bruto.rename(columns={'transactionId': 'total_orders'}, inplace=True)\n",
    "\n",
    "# Combinar con la tabla de visitas para calcular la tasa de conversión.\n",
    "\n",
    "conversion_diaria_bruto = pd.merge(visitas, pedidos_diarios_bruto, on=['date', 'group'])\n",
    "conversion_diaria_bruto['conversion_rate'] = (conversion_diaria_bruto['total_orders'] / conversion_diaria_bruto['visits']) * 100\n",
    "\n",
    "# Separar las tasas de conversión por grupo.\n",
    "\n",
    "conversion_A_bruto = conversion_diaria_bruto[conversion_diaria_bruto['group'] == 'A']['conversion_rate']\n",
    "conversion_B_bruto = conversion_diaria_bruto[conversion_diaria_bruto['group'] == 'B']['conversion_rate']\n",
    "\n",
    "# Realizar la prueba de Mann-Whitney.\n",
    "\n",
    "results_bruto = st.mannwhitneyu(conversion_A_bruto, conversion_B_bruto, alternative='two-sided')\n",
    "\n",
    "p_value_bruto = results_bruto.pvalue\n",
    "alpha = 0.05\n",
    "\n",
    "if p_value_bruto < alpha:\n",
    "    conclusion_bruto = \"Hipótesis nula rechazada: existen diferencias significativas en la conversión entre los grupos.\"\n",
    "else:\n",
    "    conclusion_bruto = \"No se pudo rechazar la hipótesis nula: no hay evidencia suficiente para concluir una diferencia significativa.\"\n",
    "\n",
    "# Mostrar resultados\n",
    "print(\"p-valor (datos en bruto):\", p_value_bruto)\n",
    "print(\"Conclusión (datos en bruto):\", conclusion_bruto)\n",
    "print()\n",
    "print('Los datos sugieren que las estrategias aplicadas a los grupos A y B tienen un impacto similar en las tasas de conversión. Esto podría deberse a que ambas estrategias no son lo suficientemente diferentes para provocar un cambio en el comportamiento de los usuarios.')"
   ]
  },
  {
   "cell_type": "markdown",
   "metadata": {},
   "source": [
    "## Encuentra la significancia estadística de la diferencia en el tamaño promedio de pedido entre los grupos utilizando los datos en bruto"
   ]
  },
  {
   "cell_type": "code",
   "execution_count": 44,
   "metadata": {},
   "outputs": [
    {
     "name": "stdout",
     "output_type": "stream",
     "text": [
      "p-valor: 0.6915246773264736\n",
      "Conclusión: No se pudo rechazar la hipótesis nula: no hay evidencia suficiente para concluir una diferencia significativa.\n",
      "\n",
      "Es probable que los usuarios de ambos grupos tengan patrones de gasto similares, lo que resulta en tamaños promedio de pedido prácticamente iguales. Esto sugiere que las estrategias aplicadas a los grupos no afectan significativamente el monto promedio de las transacciones.\n"
     ]
    }
   ],
   "source": [
    "# Obtener los ingresos por pedido para cada grupo.\n",
    "\n",
    "revenue_A_bruto = ordenes_bruto[ordenes_bruto['group'] == 'A']['revenue']\n",
    "revenue_B_bruto = ordenes_bruto[ordenes_bruto['group'] == 'B']['revenue']\n",
    "\n",
    "# Realizar la prueba de Mann-Whitney.\n",
    "\n",
    "results = st.mannwhitneyu(revenue_A_bruto, revenue_B_bruto)\n",
    "\n",
    "\n",
    "p_value = results.pvalue\n",
    "\n",
    "# Nivel de significancia.\n",
    "\n",
    "alpha = 0.05\n",
    "\n",
    "\n",
    "if p_value < alpha:\n",
    "    conclusion = \"Hipótesis nula rechazada: existen diferencias significativas en el tamaño promedio de pedido entre los grupos.\"\n",
    "else:\n",
    "    conclusion = \"No se pudo rechazar la hipótesis nula: no hay evidencia suficiente para concluir una diferencia significativa.\"\n",
    "\n",
    "print(\"p-valor:\", p_value)\n",
    "print(\"Conclusión:\", conclusion)\n",
    "print()\n",
    "print('Es probable que los usuarios de ambos grupos tengan patrones de gasto similares, lo que resulta en tamaños promedio de pedido prácticamente iguales. Esto sugiere que las estrategias aplicadas a los grupos no afectan significativamente el monto promedio de las transacciones.')\n"
   ]
  },
  {
   "cell_type": "markdown",
   "metadata": {},
   "source": [
    "## Encuentra la significancia estadística de la diferencia en la conversión entre los grupos utilizando los datos filtrados\n",
    "\n",
    "\n"
   ]
  },
  {
   "cell_type": "code",
   "execution_count": 45,
   "metadata": {},
   "outputs": [
    {
     "name": "stdout",
     "output_type": "stream",
     "text": [
      "p-valor: 0.05375707890473213\n",
      "Conclusión: No se pudo rechazar la hipótesis nula: no hay evidencia suficiente para concluir una diferencia significativa.\n",
      "\n",
      "Aunque el grupo B puede tener una tasa de conversión ligeramente diferente (en promedio), esta diferencia no es estadísticamente significativa. Esto podría indicar que las estrategias aplicadas a ambos grupos tienen un impacto similar en la conversión.\n"
     ]
    }
   ],
   "source": [
    "# Calcular el número de pedidos diarios por grupo.\n",
    "\n",
    "pedidos_diarios = ordenes.groupby(['date', 'group'], as_index=False).agg({'transaction_id': 'count'})\n",
    "pedidos_diarios.rename(columns={'transaction_id': 'total_orders'}, inplace=True)\n",
    "\n",
    "# Combinar con la tabla de visitas para calcular la tasa de conversión.\n",
    "\n",
    "conversion_diaria = pd.merge(visitas, pedidos_diarios, on=['date', 'group'])\n",
    "conversion_diaria['conversion_rate'] = (conversion_diaria['total_orders'] / conversion_diaria['visits']) * 100\n",
    "\n",
    "# Separar las tasas de conversión por grupo.\n",
    "\n",
    "conversion_A = conversion_diaria[conversion_diaria['group'] == 'A']['conversion_rate']\n",
    "conversion_B = conversion_diaria[conversion_diaria['group'] == 'B']['conversion_rate']\n",
    "\n",
    "# Realizar la prueba de Mann-Whitney.\n",
    "\n",
    "results = st.mannwhitneyu(conversion_A, conversion_B)\n",
    "\n",
    "\n",
    "p_value = results.pvalue\n",
    "alpha = 0.05\n",
    "\n",
    "if p_value < alpha:\n",
    "    conclusion = \"Hipótesis nula rechazada: existen diferencias significativas en la conversión entre los grupos.\"\n",
    "else:\n",
    "    conclusion = \"No se pudo rechazar la hipótesis nula: no hay evidencia suficiente para concluir una diferencia significativa.\"\n",
    "\n",
    "\n",
    "print(\"p-valor:\", p_value)\n",
    "print(\"Conclusión:\", conclusion)\n",
    "print()\n",
    "print('Aunque el grupo B puede tener una tasa de conversión ligeramente diferente (en promedio), esta diferencia no es estadísticamente significativa. Esto podría indicar que las estrategias aplicadas a ambos grupos tienen un impacto similar en la conversión.')"
   ]
  },
  {
   "cell_type": "markdown",
   "metadata": {},
   "source": [
    "## Encuentra la significancia estadística de la diferencia en el tamaño promedio de pedido entre los grupos utilizando los datos filtrados"
   ]
  },
  {
   "cell_type": "code",
   "execution_count": 46,
   "metadata": {},
   "outputs": [
    {
     "name": "stdout",
     "output_type": "stream",
     "text": [
      "p-valor: 0.8622329690015668\n",
      "Conclusión: No se pudo rechazar la hipótesis nula: no hay evidencia suficiente para concluir una diferencia significativa.\n",
      "\n",
      "Es probable que los usuarios de ambos grupos tengan patrones de gasto similares, lo que resulta en tamaños promedio de pedido prácticamente iguales. Esto sugiere que las estrategias aplicadas a los grupos no afectan significativamente el monto promedio de las transacciones.\n"
     ]
    }
   ],
   "source": [
    "# Obtener los ingresos por pedido para cada grupo.\n",
    "\n",
    "revenue_A = ordenes[ordenes['group'] == 'A']['revenue']\n",
    "revenue_B = ordenes[ordenes['group'] == 'B']['revenue']\n",
    "\n",
    "# Realizar la prueba de Mann-Whitney.\n",
    "\n",
    "results = st.mannwhitneyu(revenue_A, revenue_B)\n",
    "\n",
    "\n",
    "p_value = results.pvalue\n",
    "\n",
    "# Nivel de significancia.\n",
    "\n",
    "alpha = 0.05\n",
    "\n",
    "\n",
    "if p_value < alpha:\n",
    "    conclusion = \"Hipótesis nula rechazada: existen diferencias significativas en el tamaño promedio de pedido entre los grupos.\"\n",
    "else:\n",
    "    conclusion = \"No se pudo rechazar la hipótesis nula: no hay evidencia suficiente para concluir una diferencia significativa.\"\n",
    "\n",
    "print(\"p-valor:\", p_value)\n",
    "print(\"Conclusión:\", conclusion)\n",
    "print()\n",
    "print('Es probable que los usuarios de ambos grupos tengan patrones de gasto similares, lo que resulta en tamaños promedio de pedido prácticamente iguales. Esto sugiere que las estrategias aplicadas a los grupos no afectan significativamente el monto promedio de las transacciones.')\n",
    "\n"
   ]
  },
  {
   "cell_type": "markdown",
   "metadata": {},
   "source": [
    "## Toma una decisión basada en los resultados de la prueba"
   ]
  },
  {
   "cell_type": "markdown",
   "metadata": {},
   "source": [
    "Decisión 2  Parar la prueba y concluir que no hay diferencias significativas entre los grupos.\n",
    "\n",
    "Justificación:\n",
    "\n",
    "Las pruebas estadísticas no encontraron diferencias significativas en las métricas clave (tasa de conversión y tamaño promedio de pedido).\n",
    "Continuar la prueba podría no ser eficiente dado que los datos actuales sugieren que las estrategias tienen un impacto similar.\n",
    "Sin embargo, se pueden tomar aprendizajes del grupo B (por ejemplo, los picos en tamaño promedio de pedido) para diseñar futuras pruebas o estrategias."
   ]
  },
  {
   "cell_type": "markdown",
   "metadata": {},
   "source": [
    "# Conclusión General del Proyecto"
   ]
  },
  {
   "cell_type": "markdown",
   "metadata": {},
   "source": [
    "\n",
    "1. Priorización de Hipótesis:\n",
    "\n",
    "Resultado: La hipótesis \"Add a subscription form to all the main pages\" fue priorizada debido a su puntaje más alto en RICE. Esto indica que es la más prometedora para aumentar los ingresos al afectar a un mayor número de usuarios.\n",
    "\n",
    "2. Análisis del Test A/B:\n",
    "\n",
    "Ingresos acumulados:\n",
    "El grupo B generó ingresos acumulados mayores en comparación con el grupo A.\n",
    "\n",
    "Sin embargo, no se realizó una prueba estadística que demostrara que esta diferencia es significativa.\n",
    "\n",
    "Tamaño promedio de pedido acumulado:\n",
    "El grupo B mostró picos en el tamaño promedio de pedido, especialmente alrededor del 17 de agosto.\n",
    "El grupo A tuvo un comportamiento más estable.\n",
    "\n",
    "Diferencia relativa en tamaño promedio:\n",
    "A partir del 5 de agosto, el grupo B superó consistentemente al grupo A en tamaño promedio de pedido, aunque con fluctuaciones. Esto sugiere que la estrategia aplicada al grupo B fue más efectiva en ciertos períodos.\n",
    "\n",
    "Tasa de conversión:\n",
    "El grupo A tuvo una mayor tasa de conversión inicial, pero mostró una disminución y se estabilizó.\n",
    "El grupo B tuvo tasas de conversión más consistentes y cerró la brecha hacia el final del período.\n",
    "\n",
    "3. Análisis de Anomalías:\n",
    "\n",
    "Número de pedidos por usuario:\n",
    "El percentil 99 indica que los usuarios con más de 2 pedidos son casos atípicos.\n",
    "La mayoría de los usuarios realizaron solo un pedido.\n",
    "\n",
    "Precios de los pedidos:\n",
    "El 95% de los pedidos tienen precios menores o iguales a 414.20, mientras que el 99% en 830.30.\n",
    "Un pedido con un precio de $20,000 se identificó como un valor atípico que debería investigarse.\n",
    "\n",
    "4. Significancia Estadística:\n",
    "\n",
    "Conversión (datos en bruto y filtrados):\n",
    "No se encontraron diferencias estadísticamente significativas en las tasas de conversión entre los grupos A y B \n",
    "\n",
    "p=0.0859.\n",
    "\n",
    "Tamaño promedio de pedido (datos en bruto y filtrados):\n",
    "Tampoco se encontraron diferencias significativas en el tamaño promedio de pedido entre los grupos (\n",
    "\n",
    "p=0.69 en datos en bruto y \n",
    "\n",
    "p=0.86 en datos filtrados).\n",
    "\n",
    "\n",
    "Decisión Final:\n",
    "\n",
    "Decisión 2 Parar la prueba y concluir que no hay diferencias significativas entre los grupos.\n",
    "\n",
    "Justificación:\n",
    "\n",
    "Las pruebas estadísticas no encontraron diferencias significativas en las métricas clave (tasa de conversión y tamaño promedio de pedido).\n",
    "Continuar la prueba podría no ser eficiente dado que los datos actuales sugieren que las estrategias tienen un impacto similar.\n",
    "Sin embargo, se pueden tomar aprendizajes del grupo B (por ejemplo, los picos en tamaño promedio de pedido) para diseñar futuras pruebas o estrategias.\n"
   ]
  }
 ],
 "metadata": {
  "ExecuteTimeLog": [
   {
    "duration": 832,
    "start_time": "2025-01-17T17:15:04.239Z"
   },
   {
    "duration": 2,
    "start_time": "2025-01-17T17:16:22.561Z"
   },
   {
    "duration": 10,
    "start_time": "2025-01-17T17:17:30.992Z"
   },
   {
    "duration": 21,
    "start_time": "2025-01-17T17:18:44.736Z"
   },
   {
    "duration": 7,
    "start_time": "2025-01-17T17:21:14.072Z"
   },
   {
    "duration": 6,
    "start_time": "2025-01-17T17:21:26.937Z"
   },
   {
    "duration": 6,
    "start_time": "2025-01-17T17:21:41.209Z"
   },
   {
    "duration": 12,
    "start_time": "2025-01-17T17:25:41.971Z"
   },
   {
    "duration": 7,
    "start_time": "2025-01-17T17:25:43.557Z"
   },
   {
    "duration": 6,
    "start_time": "2025-01-17T17:25:57.246Z"
   },
   {
    "duration": 8,
    "start_time": "2025-01-17T17:26:04.988Z"
   },
   {
    "duration": 9,
    "start_time": "2025-01-17T17:26:28.315Z"
   },
   {
    "duration": 7,
    "start_time": "2025-01-17T17:28:22.335Z"
   },
   {
    "duration": 7,
    "start_time": "2025-01-17T17:28:36.919Z"
   },
   {
    "duration": 9,
    "start_time": "2025-01-17T17:28:50.505Z"
   },
   {
    "duration": 7,
    "start_time": "2025-01-17T17:29:47.304Z"
   },
   {
    "duration": 7,
    "start_time": "2025-01-17T17:29:52.770Z"
   },
   {
    "duration": 5,
    "start_time": "2025-01-17T17:30:20.481Z"
   },
   {
    "duration": 5,
    "start_time": "2025-01-17T17:30:30.102Z"
   },
   {
    "duration": 261,
    "start_time": "2025-01-17T17:31:30.131Z"
   },
   {
    "duration": 14,
    "start_time": "2025-01-17T17:31:49.156Z"
   },
   {
    "duration": 3,
    "start_time": "2025-01-17T17:34:02.722Z"
   },
   {
    "duration": 11,
    "start_time": "2025-01-17T17:34:09.734Z"
   },
   {
    "duration": 4,
    "start_time": "2025-01-17T17:37:55.151Z"
   },
   {
    "duration": 10,
    "start_time": "2025-01-17T17:38:12.237Z"
   },
   {
    "duration": 4,
    "start_time": "2025-01-17T17:38:40.790Z"
   },
   {
    "duration": 3,
    "start_time": "2025-01-17T17:38:59.615Z"
   },
   {
    "duration": 7,
    "start_time": "2025-01-17T17:39:09.460Z"
   },
   {
    "duration": 9,
    "start_time": "2025-01-17T17:39:22.470Z"
   },
   {
    "duration": 5,
    "start_time": "2025-01-17T17:39:22.739Z"
   },
   {
    "duration": 3,
    "start_time": "2025-01-17T17:39:23.059Z"
   },
   {
    "duration": 7,
    "start_time": "2025-01-17T17:39:23.519Z"
   },
   {
    "duration": 4,
    "start_time": "2025-01-17T17:39:40.841Z"
   },
   {
    "duration": 7,
    "start_time": "2025-01-17T17:39:41.715Z"
   },
   {
    "duration": 3,
    "start_time": "2025-01-17T17:39:47.942Z"
   },
   {
    "duration": 8,
    "start_time": "2025-01-17T17:39:52.655Z"
   },
   {
    "duration": 5,
    "start_time": "2025-01-17T17:39:56.574Z"
   },
   {
    "duration": 3,
    "start_time": "2025-01-17T17:39:56.846Z"
   },
   {
    "duration": 8,
    "start_time": "2025-01-17T17:39:57.158Z"
   },
   {
    "duration": 8,
    "start_time": "2025-01-17T17:40:03.032Z"
   },
   {
    "duration": 8,
    "start_time": "2025-01-17T17:40:03.253Z"
   },
   {
    "duration": 10,
    "start_time": "2025-01-17T17:40:03.390Z"
   },
   {
    "duration": 4,
    "start_time": "2025-01-17T17:40:03.515Z"
   },
   {
    "duration": 3,
    "start_time": "2025-01-17T17:40:03.671Z"
   },
   {
    "duration": 8,
    "start_time": "2025-01-17T17:40:03.859Z"
   },
   {
    "duration": 823,
    "start_time": "2025-01-17T17:40:19.450Z"
   },
   {
    "duration": 16,
    "start_time": "2025-01-17T17:40:20.275Z"
   },
   {
    "duration": 8,
    "start_time": "2025-01-17T17:40:20.293Z"
   },
   {
    "duration": 8,
    "start_time": "2025-01-17T17:40:20.304Z"
   },
   {
    "duration": 7,
    "start_time": "2025-01-17T17:40:20.314Z"
   },
   {
    "duration": 9,
    "start_time": "2025-01-17T17:40:20.323Z"
   },
   {
    "duration": 4,
    "start_time": "2025-01-17T17:40:20.333Z"
   },
   {
    "duration": 3,
    "start_time": "2025-01-17T17:40:20.339Z"
   },
   {
    "duration": 6,
    "start_time": "2025-01-17T17:40:20.343Z"
   },
   {
    "duration": 870,
    "start_time": "2025-01-17T17:40:44.403Z"
   },
   {
    "duration": 18,
    "start_time": "2025-01-17T17:40:45.275Z"
   },
   {
    "duration": 8,
    "start_time": "2025-01-17T17:40:45.295Z"
   },
   {
    "duration": 9,
    "start_time": "2025-01-17T17:40:45.305Z"
   },
   {
    "duration": 7,
    "start_time": "2025-01-17T17:40:45.318Z"
   },
   {
    "duration": 8,
    "start_time": "2025-01-17T17:40:45.328Z"
   },
   {
    "duration": 5,
    "start_time": "2025-01-17T17:40:45.338Z"
   },
   {
    "duration": 3,
    "start_time": "2025-01-17T17:40:45.345Z"
   },
   {
    "duration": 42,
    "start_time": "2025-01-17T17:40:45.350Z"
   },
   {
    "duration": 3,
    "start_time": "2025-01-17T17:41:01.291Z"
   },
   {
    "duration": 7,
    "start_time": "2025-01-17T17:41:01.998Z"
   },
   {
    "duration": 3,
    "start_time": "2025-01-17T17:41:17.511Z"
   },
   {
    "duration": 8,
    "start_time": "2025-01-17T17:41:18.363Z"
   },
   {
    "duration": 3,
    "start_time": "2025-01-17T17:41:20.934Z"
   },
   {
    "duration": 8,
    "start_time": "2025-01-17T17:41:22.376Z"
   },
   {
    "duration": 793,
    "start_time": "2025-01-17T17:41:31.480Z"
   },
   {
    "duration": 14,
    "start_time": "2025-01-17T17:41:32.275Z"
   },
   {
    "duration": 9,
    "start_time": "2025-01-17T17:41:32.290Z"
   },
   {
    "duration": 8,
    "start_time": "2025-01-17T17:41:32.301Z"
   },
   {
    "duration": 6,
    "start_time": "2025-01-17T17:41:32.311Z"
   },
   {
    "duration": 8,
    "start_time": "2025-01-17T17:41:32.319Z"
   },
   {
    "duration": 4,
    "start_time": "2025-01-17T17:41:32.329Z"
   },
   {
    "duration": 2,
    "start_time": "2025-01-17T17:41:32.335Z"
   },
   {
    "duration": 7,
    "start_time": "2025-01-17T17:41:32.339Z"
   },
   {
    "duration": 5,
    "start_time": "2025-01-17T17:43:30.488Z"
   },
   {
    "duration": 126,
    "start_time": "2025-01-17T17:43:37.472Z"
   },
   {
    "duration": 281,
    "start_time": "2025-01-17T17:47:09.965Z"
   },
   {
    "duration": 819,
    "start_time": "2025-01-17T17:48:33.495Z"
   },
   {
    "duration": 12,
    "start_time": "2025-01-17T17:48:34.316Z"
   },
   {
    "duration": 8,
    "start_time": "2025-01-17T17:48:34.330Z"
   },
   {
    "duration": 9,
    "start_time": "2025-01-17T17:48:34.340Z"
   },
   {
    "duration": 6,
    "start_time": "2025-01-17T17:48:34.352Z"
   },
   {
    "duration": 33,
    "start_time": "2025-01-17T17:48:34.360Z"
   },
   {
    "duration": 4,
    "start_time": "2025-01-17T17:48:34.394Z"
   },
   {
    "duration": 2,
    "start_time": "2025-01-17T17:48:34.400Z"
   },
   {
    "duration": 4,
    "start_time": "2025-01-17T17:48:34.405Z"
   },
   {
    "duration": 5,
    "start_time": "2025-01-17T17:48:43.534Z"
   },
   {
    "duration": 5,
    "start_time": "2025-01-17T17:49:51.146Z"
   },
   {
    "duration": 6,
    "start_time": "2025-01-17T17:57:04.370Z"
   },
   {
    "duration": 9,
    "start_time": "2025-01-17T17:57:12.254Z"
   },
   {
    "duration": 4,
    "start_time": "2025-01-17T17:58:35.173Z"
   },
   {
    "duration": 5,
    "start_time": "2025-01-17T17:58:59.382Z"
   },
   {
    "duration": 4,
    "start_time": "2025-01-17T17:59:32.304Z"
   },
   {
    "duration": 3045,
    "start_time": "2025-01-17T20:43:13.365Z"
   },
   {
    "duration": 22,
    "start_time": "2025-01-17T20:43:16.412Z"
   },
   {
    "duration": 10,
    "start_time": "2025-01-17T20:43:16.436Z"
   },
   {
    "duration": 23,
    "start_time": "2025-01-17T20:43:16.448Z"
   },
   {
    "duration": 8,
    "start_time": "2025-01-17T20:43:16.474Z"
   },
   {
    "duration": 10,
    "start_time": "2025-01-17T20:43:16.484Z"
   },
   {
    "duration": 5,
    "start_time": "2025-01-17T20:43:16.496Z"
   },
   {
    "duration": 3,
    "start_time": "2025-01-17T20:43:16.502Z"
   },
   {
    "duration": 4,
    "start_time": "2025-01-17T20:43:16.507Z"
   },
   {
    "duration": 34,
    "start_time": "2025-01-17T20:43:16.513Z"
   },
   {
    "duration": 12,
    "start_time": "2025-01-17T20:43:16.549Z"
   },
   {
    "duration": 3,
    "start_time": "2025-01-17T20:43:16.564Z"
   },
   {
    "duration": 6,
    "start_time": "2025-01-17T20:43:16.570Z"
   },
   {
    "duration": 10,
    "start_time": "2025-01-17T20:43:24.166Z"
   },
   {
    "duration": 3,
    "start_time": "2025-01-17T20:52:58.128Z"
   },
   {
    "duration": 4,
    "start_time": "2025-01-17T20:53:33.059Z"
   },
   {
    "duration": 4,
    "start_time": "2025-01-17T20:53:37.323Z"
   },
   {
    "duration": 4,
    "start_time": "2025-01-17T20:53:43.045Z"
   },
   {
    "duration": 3,
    "start_time": "2025-01-17T20:57:56.932Z"
   },
   {
    "duration": 4,
    "start_time": "2025-01-17T20:57:59.863Z"
   },
   {
    "duration": 6,
    "start_time": "2025-01-17T20:58:05.701Z"
   },
   {
    "duration": 6,
    "start_time": "2025-01-17T20:58:29.354Z"
   },
   {
    "duration": 3,
    "start_time": "2025-01-17T20:59:01.416Z"
   },
   {
    "duration": 6,
    "start_time": "2025-01-17T20:59:03.590Z"
   },
   {
    "duration": 690,
    "start_time": "2025-01-17T20:59:38.715Z"
   },
   {
    "duration": 2,
    "start_time": "2025-01-17T20:59:43.264Z"
   },
   {
    "duration": 6,
    "start_time": "2025-01-17T20:59:43.793Z"
   },
   {
    "duration": 5,
    "start_time": "2025-01-17T21:00:13.183Z"
   },
   {
    "duration": 46,
    "start_time": "2025-01-17T21:04:04.495Z"
   },
   {
    "duration": 41,
    "start_time": "2025-01-17T21:04:25.684Z"
   },
   {
    "duration": 12,
    "start_time": "2025-01-17T21:04:34.135Z"
   },
   {
    "duration": 9,
    "start_time": "2025-01-17T21:05:07.501Z"
   },
   {
    "duration": 281,
    "start_time": "2025-01-17T21:06:37.928Z"
   },
   {
    "duration": 4,
    "start_time": "2025-01-17T21:07:18.286Z"
   },
   {
    "duration": 4,
    "start_time": "2025-01-17T21:10:22.431Z"
   },
   {
    "duration": 6,
    "start_time": "2025-01-17T21:10:30.447Z"
   },
   {
    "duration": 4,
    "start_time": "2025-01-17T21:10:43.681Z"
   },
   {
    "duration": 4,
    "start_time": "2025-01-17T21:10:44.633Z"
   },
   {
    "duration": 5,
    "start_time": "2025-01-17T21:11:44.361Z"
   },
   {
    "duration": 3,
    "start_time": "2025-01-17T21:11:55.937Z"
   },
   {
    "duration": 4,
    "start_time": "2025-01-17T21:12:12.694Z"
   },
   {
    "duration": 4,
    "start_time": "2025-01-17T21:12:39.105Z"
   },
   {
    "duration": 4,
    "start_time": "2025-01-17T21:12:45.919Z"
   },
   {
    "duration": 12,
    "start_time": "2025-01-17T21:12:56.767Z"
   },
   {
    "duration": 5,
    "start_time": "2025-01-17T21:13:25.831Z"
   },
   {
    "duration": 9,
    "start_time": "2025-01-17T21:14:04.872Z"
   },
   {
    "duration": 3,
    "start_time": "2025-01-17T21:25:07.005Z"
   },
   {
    "duration": 5,
    "start_time": "2025-01-17T21:25:15.681Z"
   },
   {
    "duration": 16,
    "start_time": "2025-01-17T21:25:19.308Z"
   },
   {
    "duration": 10,
    "start_time": "2025-01-17T21:25:41.956Z"
   },
   {
    "duration": 4,
    "start_time": "2025-01-17T21:26:26.998Z"
   },
   {
    "duration": 2675,
    "start_time": "2025-01-17T22:20:06.239Z"
   },
   {
    "duration": 23,
    "start_time": "2025-01-17T22:20:08.917Z"
   },
   {
    "duration": 10,
    "start_time": "2025-01-17T22:20:08.941Z"
   },
   {
    "duration": 8,
    "start_time": "2025-01-17T22:20:08.953Z"
   },
   {
    "duration": 7,
    "start_time": "2025-01-17T22:20:08.964Z"
   },
   {
    "duration": 9,
    "start_time": "2025-01-17T22:20:08.986Z"
   },
   {
    "duration": 5,
    "start_time": "2025-01-17T22:20:08.997Z"
   },
   {
    "duration": 4,
    "start_time": "2025-01-17T22:20:09.003Z"
   },
   {
    "duration": 4,
    "start_time": "2025-01-17T22:20:09.008Z"
   },
   {
    "duration": 10,
    "start_time": "2025-01-17T22:20:09.014Z"
   },
   {
    "duration": 8,
    "start_time": "2025-01-17T22:20:09.026Z"
   },
   {
    "duration": 4,
    "start_time": "2025-01-17T22:20:09.035Z"
   },
   {
    "duration": 46,
    "start_time": "2025-01-17T22:20:09.041Z"
   },
   {
    "duration": 5,
    "start_time": "2025-01-17T22:20:09.090Z"
   },
   {
    "duration": 246,
    "start_time": "2025-01-17T22:20:09.097Z"
   },
   {
    "duration": 0,
    "start_time": "2025-01-17T22:20:09.345Z"
   },
   {
    "duration": 6,
    "start_time": "2025-01-17T22:20:25.036Z"
   },
   {
    "duration": 4,
    "start_time": "2025-01-17T22:20:28.831Z"
   },
   {
    "duration": 395,
    "start_time": "2025-01-17T23:09:09.577Z"
   },
   {
    "duration": 18,
    "start_time": "2025-01-17T23:10:17.864Z"
   },
   {
    "duration": 3,
    "start_time": "2025-01-17T23:12:02.039Z"
   },
   {
    "duration": 2,
    "start_time": "2025-01-17T23:12:47.270Z"
   },
   {
    "duration": 7,
    "start_time": "2025-01-17T23:12:54.195Z"
   },
   {
    "duration": 3,
    "start_time": "2025-01-17T23:13:05.116Z"
   },
   {
    "duration": 7,
    "start_time": "2025-01-17T23:13:10.110Z"
   },
   {
    "duration": 3,
    "start_time": "2025-01-17T23:15:58.366Z"
   },
   {
    "duration": 7,
    "start_time": "2025-01-17T23:15:59.463Z"
   },
   {
    "duration": 3,
    "start_time": "2025-01-17T23:16:04.764Z"
   },
   {
    "duration": 7,
    "start_time": "2025-01-17T23:16:06.743Z"
   },
   {
    "duration": 4,
    "start_time": "2025-01-17T23:18:54.594Z"
   },
   {
    "duration": 8,
    "start_time": "2025-01-17T23:19:39.975Z"
   },
   {
    "duration": 6,
    "start_time": "2025-01-17T23:21:45.755Z"
   },
   {
    "duration": 5,
    "start_time": "2025-01-17T23:21:55.098Z"
   },
   {
    "duration": 4,
    "start_time": "2025-01-17T23:22:41.659Z"
   },
   {
    "duration": 118,
    "start_time": "2025-01-17T23:23:41.146Z"
   },
   {
    "duration": 7,
    "start_time": "2025-01-17T23:24:04.492Z"
   },
   {
    "duration": 7,
    "start_time": "2025-01-17T23:33:02.991Z"
   },
   {
    "duration": 8,
    "start_time": "2025-01-17T23:33:20.528Z"
   },
   {
    "duration": 8,
    "start_time": "2025-01-17T23:39:56.192Z"
   },
   {
    "duration": 19,
    "start_time": "2025-01-17T23:40:24.735Z"
   },
   {
    "duration": 407,
    "start_time": "2025-01-17T23:40:51.424Z"
   },
   {
    "duration": 10,
    "start_time": "2025-01-17T23:42:01.780Z"
   },
   {
    "duration": 15,
    "start_time": "2025-01-17T23:44:52.333Z"
   },
   {
    "duration": 10,
    "start_time": "2025-01-17T23:45:01.780Z"
   },
   {
    "duration": 157,
    "start_time": "2025-01-18T19:45:48.992Z"
   },
   {
    "duration": 2640,
    "start_time": "2025-01-18T19:46:04.753Z"
   },
   {
    "duration": 19,
    "start_time": "2025-01-18T19:46:07.395Z"
   },
   {
    "duration": 9,
    "start_time": "2025-01-18T19:46:07.415Z"
   },
   {
    "duration": 12,
    "start_time": "2025-01-18T19:46:07.426Z"
   },
   {
    "duration": 3,
    "start_time": "2025-01-18T19:46:07.440Z"
   },
   {
    "duration": 8,
    "start_time": "2025-01-18T19:46:07.445Z"
   },
   {
    "duration": 8,
    "start_time": "2025-01-18T19:46:07.454Z"
   },
   {
    "duration": 4,
    "start_time": "2025-01-18T19:46:07.464Z"
   },
   {
    "duration": 4,
    "start_time": "2025-01-18T19:46:07.469Z"
   },
   {
    "duration": 5,
    "start_time": "2025-01-18T19:46:07.474Z"
   },
   {
    "duration": 6,
    "start_time": "2025-01-18T19:46:07.482Z"
   },
   {
    "duration": 8,
    "start_time": "2025-01-18T19:46:07.531Z"
   },
   {
    "duration": 4,
    "start_time": "2025-01-18T19:46:07.541Z"
   },
   {
    "duration": 4,
    "start_time": "2025-01-18T19:46:07.548Z"
   },
   {
    "duration": 3,
    "start_time": "2025-01-18T19:46:07.554Z"
   },
   {
    "duration": 6,
    "start_time": "2025-01-18T19:46:07.559Z"
   },
   {
    "duration": 3,
    "start_time": "2025-01-18T19:46:07.567Z"
   },
   {
    "duration": 5,
    "start_time": "2025-01-18T19:46:07.572Z"
   },
   {
    "duration": 5,
    "start_time": "2025-01-18T19:46:07.579Z"
   },
   {
    "duration": 50,
    "start_time": "2025-01-18T19:46:07.585Z"
   },
   {
    "duration": 12,
    "start_time": "2025-01-18T19:46:07.636Z"
   },
   {
    "duration": 4,
    "start_time": "2025-01-18T19:46:07.650Z"
   },
   {
    "duration": 3,
    "start_time": "2025-01-18T19:47:11.358Z"
   },
   {
    "duration": 3,
    "start_time": "2025-01-18T19:47:22.588Z"
   },
   {
    "duration": 10,
    "start_time": "2025-01-18T19:53:37.026Z"
   },
   {
    "duration": 8,
    "start_time": "2025-01-18T19:54:01.531Z"
   },
   {
    "duration": 9,
    "start_time": "2025-01-18T19:54:12.401Z"
   },
   {
    "duration": 230,
    "start_time": "2025-01-18T19:54:17.233Z"
   },
   {
    "duration": 13,
    "start_time": "2025-01-18T19:54:25.279Z"
   },
   {
    "duration": 13,
    "start_time": "2025-01-18T19:54:29.779Z"
   },
   {
    "duration": 12,
    "start_time": "2025-01-18T19:54:32.913Z"
   },
   {
    "duration": 12,
    "start_time": "2025-01-18T19:54:59.949Z"
   },
   {
    "duration": 12,
    "start_time": "2025-01-18T19:55:06.687Z"
   },
   {
    "duration": 11,
    "start_time": "2025-01-18T19:55:32.317Z"
   },
   {
    "duration": 11,
    "start_time": "2025-01-18T19:55:48.694Z"
   },
   {
    "duration": 3,
    "start_time": "2025-01-18T19:55:56.391Z"
   },
   {
    "duration": 12,
    "start_time": "2025-01-18T19:58:28.977Z"
   },
   {
    "duration": 9,
    "start_time": "2025-01-18T19:58:35.675Z"
   },
   {
    "duration": 14,
    "start_time": "2025-01-18T20:06:27.546Z"
   },
   {
    "duration": 5,
    "start_time": "2025-01-18T20:06:33.334Z"
   },
   {
    "duration": 10,
    "start_time": "2025-01-18T20:06:40.218Z"
   },
   {
    "duration": 2229,
    "start_time": "2025-01-18T20:09:19.275Z"
   },
   {
    "duration": 11,
    "start_time": "2025-01-18T20:09:35.345Z"
   },
   {
    "duration": 131,
    "start_time": "2025-01-18T20:11:01.797Z"
   },
   {
    "duration": 10,
    "start_time": "2025-01-18T20:11:02.898Z"
   },
   {
    "duration": 117,
    "start_time": "2025-01-18T20:19:48.766Z"
   },
   {
    "duration": 3,
    "start_time": "2025-01-18T20:22:39.467Z"
   },
   {
    "duration": 10,
    "start_time": "2025-01-18T20:22:46.178Z"
   },
   {
    "duration": 4,
    "start_time": "2025-01-18T20:24:00.013Z"
   },
   {
    "duration": 9,
    "start_time": "2025-01-18T20:24:16.429Z"
   },
   {
    "duration": 461,
    "start_time": "2025-01-18T20:26:19.131Z"
   },
   {
    "duration": 11,
    "start_time": "2025-01-18T20:26:39.957Z"
   },
   {
    "duration": 392,
    "start_time": "2025-01-18T20:27:08.516Z"
   },
   {
    "duration": 289,
    "start_time": "2025-01-18T20:44:43.070Z"
   },
   {
    "duration": 328,
    "start_time": "2025-01-18T20:45:27.391Z"
   },
   {
    "duration": 331,
    "start_time": "2025-01-18T20:45:42.496Z"
   },
   {
    "duration": 187,
    "start_time": "2025-01-18T20:46:04.192Z"
   },
   {
    "duration": 190,
    "start_time": "2025-01-18T20:46:26.560Z"
   },
   {
    "duration": 201,
    "start_time": "2025-01-18T20:49:43.730Z"
   },
   {
    "duration": 190,
    "start_time": "2025-01-18T20:51:33.607Z"
   },
   {
    "duration": 191,
    "start_time": "2025-01-18T20:51:55.814Z"
   },
   {
    "duration": 12,
    "start_time": "2025-01-18T20:57:37.598Z"
   },
   {
    "duration": 20,
    "start_time": "2025-01-18T21:13:38.728Z"
   },
   {
    "duration": 11,
    "start_time": "2025-01-18T21:14:05.138Z"
   },
   {
    "duration": 16,
    "start_time": "2025-01-18T21:23:52.463Z"
   },
   {
    "duration": 17,
    "start_time": "2025-01-18T21:24:20.597Z"
   },
   {
    "duration": 16,
    "start_time": "2025-01-18T21:24:26.153Z"
   },
   {
    "duration": 8,
    "start_time": "2025-01-18T21:24:31.561Z"
   },
   {
    "duration": 880,
    "start_time": "2025-01-18T21:25:11.495Z"
   },
   {
    "duration": 8,
    "start_time": "2025-01-18T21:25:36.507Z"
   },
   {
    "duration": 12,
    "start_time": "2025-01-18T21:25:46.568Z"
   },
   {
    "duration": 6,
    "start_time": "2025-01-18T21:26:10.700Z"
   },
   {
    "duration": 12,
    "start_time": "2025-01-18T21:26:12.821Z"
   },
   {
    "duration": 11,
    "start_time": "2025-01-18T21:29:37.089Z"
   },
   {
    "duration": 11,
    "start_time": "2025-01-18T21:29:40.030Z"
   },
   {
    "duration": 2611,
    "start_time": "2025-01-19T19:18:35.769Z"
   },
   {
    "duration": 26,
    "start_time": "2025-01-19T19:18:38.382Z"
   },
   {
    "duration": 9,
    "start_time": "2025-01-19T19:18:38.410Z"
   },
   {
    "duration": 8,
    "start_time": "2025-01-19T19:18:38.422Z"
   },
   {
    "duration": 3,
    "start_time": "2025-01-19T19:18:38.432Z"
   },
   {
    "duration": 7,
    "start_time": "2025-01-19T19:18:38.437Z"
   },
   {
    "duration": 8,
    "start_time": "2025-01-19T19:18:38.446Z"
   },
   {
    "duration": 5,
    "start_time": "2025-01-19T19:18:38.455Z"
   },
   {
    "duration": 4,
    "start_time": "2025-01-19T19:18:38.461Z"
   },
   {
    "duration": 4,
    "start_time": "2025-01-19T19:18:38.467Z"
   },
   {
    "duration": 6,
    "start_time": "2025-01-19T19:18:38.472Z"
   },
   {
    "duration": 8,
    "start_time": "2025-01-19T19:18:38.480Z"
   },
   {
    "duration": 45,
    "start_time": "2025-01-19T19:18:38.489Z"
   },
   {
    "duration": 4,
    "start_time": "2025-01-19T19:18:38.537Z"
   },
   {
    "duration": 5,
    "start_time": "2025-01-19T19:18:38.542Z"
   },
   {
    "duration": 6,
    "start_time": "2025-01-19T19:18:38.548Z"
   },
   {
    "duration": 4,
    "start_time": "2025-01-19T19:18:38.555Z"
   },
   {
    "duration": 4,
    "start_time": "2025-01-19T19:18:38.561Z"
   },
   {
    "duration": 5,
    "start_time": "2025-01-19T19:18:38.566Z"
   },
   {
    "duration": 10,
    "start_time": "2025-01-19T19:18:38.572Z"
   },
   {
    "duration": 52,
    "start_time": "2025-01-19T19:18:38.583Z"
   },
   {
    "duration": 4,
    "start_time": "2025-01-19T19:18:38.637Z"
   },
   {
    "duration": 148,
    "start_time": "2025-01-19T19:18:38.642Z"
   },
   {
    "duration": 224,
    "start_time": "2025-01-19T19:18:38.792Z"
   },
   {
    "duration": 12,
    "start_time": "2025-01-19T19:18:39.018Z"
   },
   {
    "duration": 11,
    "start_time": "2025-01-19T19:18:39.033Z"
   },
   {
    "duration": 12,
    "start_time": "2025-01-19T19:21:31.760Z"
   },
   {
    "duration": 222,
    "start_time": "2025-01-19T19:22:16.976Z"
   },
   {
    "duration": 8,
    "start_time": "2025-01-19T19:22:23.476Z"
   },
   {
    "duration": 10,
    "start_time": "2025-01-19T19:23:03.590Z"
   },
   {
    "duration": 8,
    "start_time": "2025-01-19T19:23:40.460Z"
   },
   {
    "duration": 2541,
    "start_time": "2025-01-19T20:42:38.148Z"
   },
   {
    "duration": 25,
    "start_time": "2025-01-19T20:42:40.691Z"
   },
   {
    "duration": 9,
    "start_time": "2025-01-19T20:42:40.717Z"
   },
   {
    "duration": 9,
    "start_time": "2025-01-19T20:42:40.728Z"
   },
   {
    "duration": 3,
    "start_time": "2025-01-19T20:42:40.740Z"
   },
   {
    "duration": 6,
    "start_time": "2025-01-19T20:42:40.745Z"
   },
   {
    "duration": 24,
    "start_time": "2025-01-19T20:42:40.753Z"
   },
   {
    "duration": 5,
    "start_time": "2025-01-19T20:42:40.778Z"
   },
   {
    "duration": 3,
    "start_time": "2025-01-19T20:42:40.785Z"
   },
   {
    "duration": 4,
    "start_time": "2025-01-19T20:42:40.791Z"
   },
   {
    "duration": 7,
    "start_time": "2025-01-19T20:42:40.796Z"
   },
   {
    "duration": 8,
    "start_time": "2025-01-19T20:42:40.804Z"
   },
   {
    "duration": 3,
    "start_time": "2025-01-19T20:42:40.814Z"
   },
   {
    "duration": 4,
    "start_time": "2025-01-19T20:42:40.819Z"
   },
   {
    "duration": 46,
    "start_time": "2025-01-19T20:42:40.824Z"
   },
   {
    "duration": 6,
    "start_time": "2025-01-19T20:42:40.871Z"
   },
   {
    "duration": 4,
    "start_time": "2025-01-19T20:42:40.878Z"
   },
   {
    "duration": 4,
    "start_time": "2025-01-19T20:42:40.883Z"
   },
   {
    "duration": 4,
    "start_time": "2025-01-19T20:42:40.889Z"
   },
   {
    "duration": 8,
    "start_time": "2025-01-19T20:42:40.896Z"
   },
   {
    "duration": 11,
    "start_time": "2025-01-19T20:42:40.906Z"
   },
   {
    "duration": 4,
    "start_time": "2025-01-19T20:42:40.918Z"
   },
   {
    "duration": 183,
    "start_time": "2025-01-19T20:42:40.923Z"
   },
   {
    "duration": 227,
    "start_time": "2025-01-19T20:42:41.108Z"
   },
   {
    "duration": 12,
    "start_time": "2025-01-19T20:42:41.337Z"
   },
   {
    "duration": 240,
    "start_time": "2025-01-19T20:47:21.679Z"
   },
   {
    "duration": 787,
    "start_time": "2025-01-19T20:47:32.054Z"
   },
   {
    "duration": 11,
    "start_time": "2025-01-19T20:47:32.843Z"
   },
   {
    "duration": 15,
    "start_time": "2025-01-19T20:47:32.856Z"
   },
   {
    "duration": 8,
    "start_time": "2025-01-19T20:47:32.873Z"
   },
   {
    "duration": 2,
    "start_time": "2025-01-19T20:47:32.884Z"
   },
   {
    "duration": 7,
    "start_time": "2025-01-19T20:47:32.888Z"
   },
   {
    "duration": 9,
    "start_time": "2025-01-19T20:47:32.896Z"
   },
   {
    "duration": 4,
    "start_time": "2025-01-19T20:47:32.907Z"
   },
   {
    "duration": 3,
    "start_time": "2025-01-19T20:47:32.912Z"
   },
   {
    "duration": 4,
    "start_time": "2025-01-19T20:47:32.917Z"
   },
   {
    "duration": 6,
    "start_time": "2025-01-19T20:47:32.922Z"
   },
   {
    "duration": 48,
    "start_time": "2025-01-19T20:47:32.930Z"
   },
   {
    "duration": 4,
    "start_time": "2025-01-19T20:47:32.979Z"
   },
   {
    "duration": 4,
    "start_time": "2025-01-19T20:47:32.986Z"
   },
   {
    "duration": 4,
    "start_time": "2025-01-19T20:47:32.991Z"
   },
   {
    "duration": 5,
    "start_time": "2025-01-19T20:47:32.997Z"
   },
   {
    "duration": 4,
    "start_time": "2025-01-19T20:47:33.003Z"
   },
   {
    "duration": 4,
    "start_time": "2025-01-19T20:47:33.008Z"
   },
   {
    "duration": 4,
    "start_time": "2025-01-19T20:47:33.013Z"
   },
   {
    "duration": 52,
    "start_time": "2025-01-19T20:47:33.019Z"
   },
   {
    "duration": 12,
    "start_time": "2025-01-19T20:47:33.073Z"
   },
   {
    "duration": 3,
    "start_time": "2025-01-19T20:47:33.087Z"
   },
   {
    "duration": 154,
    "start_time": "2025-01-19T20:47:33.091Z"
   },
   {
    "duration": 240,
    "start_time": "2025-01-19T20:47:33.247Z"
   },
   {
    "duration": 11,
    "start_time": "2025-01-19T20:47:33.488Z"
   },
   {
    "duration": 18,
    "start_time": "2025-01-19T20:48:47.162Z"
   },
   {
    "duration": 7,
    "start_time": "2025-01-19T20:49:09.104Z"
   },
   {
    "duration": 8,
    "start_time": "2025-01-19T20:49:49.827Z"
   },
   {
    "duration": 13,
    "start_time": "2025-01-19T20:52:54.329Z"
   },
   {
    "duration": 260,
    "start_time": "2025-01-19T20:53:49.253Z"
   },
   {
    "duration": 12,
    "start_time": "2025-01-19T20:53:58.491Z"
   },
   {
    "duration": 6,
    "start_time": "2025-01-19T20:56:56.209Z"
   },
   {
    "duration": 12,
    "start_time": "2025-01-19T20:56:58.866Z"
   },
   {
    "duration": 3,
    "start_time": "2025-01-19T20:57:13.410Z"
   },
   {
    "duration": 4,
    "start_time": "2025-01-19T20:57:14.814Z"
   },
   {
    "duration": 12,
    "start_time": "2025-01-19T20:57:35.156Z"
   },
   {
    "duration": 4,
    "start_time": "2025-01-19T20:59:02.484Z"
   },
   {
    "duration": 15,
    "start_time": "2025-01-19T20:59:05.860Z"
   },
   {
    "duration": 5,
    "start_time": "2025-01-19T20:59:43.295Z"
   },
   {
    "duration": 14,
    "start_time": "2025-01-19T20:59:48.788Z"
   },
   {
    "duration": 12,
    "start_time": "2025-01-19T21:03:40.979Z"
   },
   {
    "duration": 193,
    "start_time": "2025-01-19T21:04:13.141Z"
   },
   {
    "duration": 13,
    "start_time": "2025-01-19T21:04:14.290Z"
   },
   {
    "duration": 4,
    "start_time": "2025-01-19T21:04:16.685Z"
   },
   {
    "duration": 12,
    "start_time": "2025-01-19T21:04:17.530Z"
   },
   {
    "duration": 13,
    "start_time": "2025-01-19T21:04:26.610Z"
   },
   {
    "duration": 821,
    "start_time": "2025-01-19T21:04:37.391Z"
   },
   {
    "duration": 15,
    "start_time": "2025-01-19T21:04:38.215Z"
   },
   {
    "duration": 9,
    "start_time": "2025-01-19T21:04:38.232Z"
   },
   {
    "duration": 9,
    "start_time": "2025-01-19T21:04:38.243Z"
   },
   {
    "duration": 18,
    "start_time": "2025-01-19T21:04:38.253Z"
   },
   {
    "duration": 7,
    "start_time": "2025-01-19T21:04:38.273Z"
   },
   {
    "duration": 8,
    "start_time": "2025-01-19T21:04:38.283Z"
   },
   {
    "duration": 4,
    "start_time": "2025-01-19T21:04:38.293Z"
   },
   {
    "duration": 3,
    "start_time": "2025-01-19T21:04:38.299Z"
   },
   {
    "duration": 4,
    "start_time": "2025-01-19T21:04:38.305Z"
   },
   {
    "duration": 8,
    "start_time": "2025-01-19T21:04:38.310Z"
   },
   {
    "duration": 9,
    "start_time": "2025-01-19T21:04:38.320Z"
   },
   {
    "duration": 41,
    "start_time": "2025-01-19T21:04:38.331Z"
   },
   {
    "duration": 4,
    "start_time": "2025-01-19T21:04:38.375Z"
   },
   {
    "duration": 5,
    "start_time": "2025-01-19T21:04:38.381Z"
   },
   {
    "duration": 5,
    "start_time": "2025-01-19T21:04:38.389Z"
   },
   {
    "duration": 4,
    "start_time": "2025-01-19T21:04:38.396Z"
   },
   {
    "duration": 3,
    "start_time": "2025-01-19T21:04:38.402Z"
   },
   {
    "duration": 4,
    "start_time": "2025-01-19T21:04:38.407Z"
   },
   {
    "duration": 8,
    "start_time": "2025-01-19T21:04:38.412Z"
   },
   {
    "duration": 56,
    "start_time": "2025-01-19T21:04:38.421Z"
   },
   {
    "duration": 3,
    "start_time": "2025-01-19T21:04:38.479Z"
   },
   {
    "duration": 151,
    "start_time": "2025-01-19T21:04:38.484Z"
   },
   {
    "duration": 223,
    "start_time": "2025-01-19T21:04:38.636Z"
   },
   {
    "duration": 12,
    "start_time": "2025-01-19T21:04:38.860Z"
   },
   {
    "duration": 3,
    "start_time": "2025-01-19T21:13:28.408Z"
   },
   {
    "duration": 4,
    "start_time": "2025-01-19T21:14:28.535Z"
   },
   {
    "duration": 12,
    "start_time": "2025-01-19T21:14:40.815Z"
   },
   {
    "duration": 648,
    "start_time": "2025-01-19T21:19:38.274Z"
   },
   {
    "duration": 34,
    "start_time": "2025-01-19T21:20:10.975Z"
   },
   {
    "duration": 14,
    "start_time": "2025-01-19T21:22:18.360Z"
   },
   {
    "duration": 482,
    "start_time": "2025-01-19T21:22:41.960Z"
   },
   {
    "duration": 42,
    "start_time": "2025-01-19T21:23:03.122Z"
   },
   {
    "duration": 33,
    "start_time": "2025-01-19T21:23:27.710Z"
   },
   {
    "duration": 850,
    "start_time": "2025-01-19T21:23:37.524Z"
   },
   {
    "duration": 16,
    "start_time": "2025-01-19T21:23:38.378Z"
   },
   {
    "duration": 10,
    "start_time": "2025-01-19T21:23:38.397Z"
   },
   {
    "duration": 9,
    "start_time": "2025-01-19T21:23:38.410Z"
   },
   {
    "duration": 3,
    "start_time": "2025-01-19T21:23:38.421Z"
   },
   {
    "duration": 8,
    "start_time": "2025-01-19T21:23:38.426Z"
   },
   {
    "duration": 33,
    "start_time": "2025-01-19T21:23:38.437Z"
   },
   {
    "duration": 5,
    "start_time": "2025-01-19T21:23:38.472Z"
   },
   {
    "duration": 4,
    "start_time": "2025-01-19T21:23:38.479Z"
   },
   {
    "duration": 5,
    "start_time": "2025-01-19T21:23:38.487Z"
   },
   {
    "duration": 8,
    "start_time": "2025-01-19T21:23:38.494Z"
   },
   {
    "duration": 12,
    "start_time": "2025-01-19T21:23:38.504Z"
   },
   {
    "duration": 4,
    "start_time": "2025-01-19T21:23:38.519Z"
   },
   {
    "duration": 5,
    "start_time": "2025-01-19T21:23:38.525Z"
   },
   {
    "duration": 6,
    "start_time": "2025-01-19T21:23:38.574Z"
   },
   {
    "duration": 6,
    "start_time": "2025-01-19T21:23:38.582Z"
   },
   {
    "duration": 4,
    "start_time": "2025-01-19T21:23:38.590Z"
   },
   {
    "duration": 5,
    "start_time": "2025-01-19T21:23:38.595Z"
   },
   {
    "duration": 4,
    "start_time": "2025-01-19T21:23:38.602Z"
   },
   {
    "duration": 8,
    "start_time": "2025-01-19T21:23:38.608Z"
   },
   {
    "duration": 11,
    "start_time": "2025-01-19T21:23:38.620Z"
   },
   {
    "duration": 39,
    "start_time": "2025-01-19T21:23:38.633Z"
   },
   {
    "duration": 155,
    "start_time": "2025-01-19T21:23:38.674Z"
   },
   {
    "duration": 244,
    "start_time": "2025-01-19T21:23:38.831Z"
   },
   {
    "duration": 3,
    "start_time": "2025-01-19T21:23:39.078Z"
   },
   {
    "duration": 11,
    "start_time": "2025-01-19T21:23:39.083Z"
   },
   {
    "duration": 776,
    "start_time": "2025-01-19T21:23:47.562Z"
   },
   {
    "duration": 5,
    "start_time": "2025-01-19T21:24:10.152Z"
   },
   {
    "duration": 14,
    "start_time": "2025-01-19T21:24:20.516Z"
   },
   {
    "duration": 14,
    "start_time": "2025-01-19T21:24:34.474Z"
   },
   {
    "duration": 76,
    "start_time": "2025-01-19T21:25:06.739Z"
   },
   {
    "duration": 294,
    "start_time": "2025-01-19T21:25:39.195Z"
   },
   {
    "duration": 284,
    "start_time": "2025-01-19T21:26:10.593Z"
   },
   {
    "duration": 440,
    "start_time": "2025-01-19T21:26:15.998Z"
   },
   {
    "duration": 0,
    "start_time": "2025-01-19T21:26:16.440Z"
   },
   {
    "duration": 788,
    "start_time": "2025-01-19T21:26:33.351Z"
   },
   {
    "duration": 13,
    "start_time": "2025-01-19T21:26:34.141Z"
   },
   {
    "duration": 42,
    "start_time": "2025-01-19T21:26:34.156Z"
   },
   {
    "duration": 8,
    "start_time": "2025-01-19T21:26:34.201Z"
   },
   {
    "duration": 2,
    "start_time": "2025-01-19T21:26:34.213Z"
   },
   {
    "duration": 8,
    "start_time": "2025-01-19T21:26:34.217Z"
   },
   {
    "duration": 8,
    "start_time": "2025-01-19T21:26:34.226Z"
   },
   {
    "duration": 4,
    "start_time": "2025-01-19T21:26:34.236Z"
   },
   {
    "duration": 3,
    "start_time": "2025-01-19T21:26:34.242Z"
   },
   {
    "duration": 5,
    "start_time": "2025-01-19T21:26:34.246Z"
   },
   {
    "duration": 41,
    "start_time": "2025-01-19T21:26:34.252Z"
   },
   {
    "duration": 7,
    "start_time": "2025-01-19T21:26:34.295Z"
   },
   {
    "duration": 3,
    "start_time": "2025-01-19T21:26:34.304Z"
   },
   {
    "duration": 5,
    "start_time": "2025-01-19T21:26:34.311Z"
   },
   {
    "duration": 4,
    "start_time": "2025-01-19T21:26:34.318Z"
   },
   {
    "duration": 7,
    "start_time": "2025-01-19T21:26:34.323Z"
   },
   {
    "duration": 3,
    "start_time": "2025-01-19T21:26:34.333Z"
   },
   {
    "duration": 4,
    "start_time": "2025-01-19T21:26:34.338Z"
   },
   {
    "duration": 4,
    "start_time": "2025-01-19T21:26:34.344Z"
   },
   {
    "duration": 48,
    "start_time": "2025-01-19T21:26:34.350Z"
   },
   {
    "duration": 12,
    "start_time": "2025-01-19T21:26:34.399Z"
   },
   {
    "duration": 4,
    "start_time": "2025-01-19T21:26:34.412Z"
   },
   {
    "duration": 139,
    "start_time": "2025-01-19T21:26:34.418Z"
   },
   {
    "duration": 248,
    "start_time": "2025-01-19T21:26:34.559Z"
   },
   {
    "duration": 2,
    "start_time": "2025-01-19T21:26:34.810Z"
   },
   {
    "duration": 275,
    "start_time": "2025-01-19T21:26:34.814Z"
   },
   {
    "duration": 296,
    "start_time": "2025-01-19T21:27:25.350Z"
   },
   {
    "duration": 877,
    "start_time": "2025-01-19T21:30:09.715Z"
   },
   {
    "duration": 14,
    "start_time": "2025-01-19T21:30:10.595Z"
   },
   {
    "duration": 10,
    "start_time": "2025-01-19T21:30:10.612Z"
   },
   {
    "duration": 9,
    "start_time": "2025-01-19T21:30:10.624Z"
   },
   {
    "duration": 4,
    "start_time": "2025-01-19T21:30:10.635Z"
   },
   {
    "duration": 30,
    "start_time": "2025-01-19T21:30:10.642Z"
   },
   {
    "duration": 10,
    "start_time": "2025-01-19T21:30:10.674Z"
   },
   {
    "duration": 6,
    "start_time": "2025-01-19T21:30:10.685Z"
   },
   {
    "duration": 4,
    "start_time": "2025-01-19T21:30:10.693Z"
   },
   {
    "duration": 5,
    "start_time": "2025-01-19T21:30:10.701Z"
   },
   {
    "duration": 7,
    "start_time": "2025-01-19T21:30:10.708Z"
   },
   {
    "duration": 10,
    "start_time": "2025-01-19T21:30:10.717Z"
   },
   {
    "duration": 41,
    "start_time": "2025-01-19T21:30:10.729Z"
   },
   {
    "duration": 5,
    "start_time": "2025-01-19T21:30:10.773Z"
   },
   {
    "duration": 4,
    "start_time": "2025-01-19T21:30:10.780Z"
   },
   {
    "duration": 7,
    "start_time": "2025-01-19T21:30:10.785Z"
   },
   {
    "duration": 4,
    "start_time": "2025-01-19T21:30:10.794Z"
   },
   {
    "duration": 4,
    "start_time": "2025-01-19T21:30:10.800Z"
   },
   {
    "duration": 4,
    "start_time": "2025-01-19T21:30:10.806Z"
   },
   {
    "duration": 9,
    "start_time": "2025-01-19T21:30:10.813Z"
   },
   {
    "duration": 55,
    "start_time": "2025-01-19T21:30:10.825Z"
   },
   {
    "duration": 6,
    "start_time": "2025-01-19T21:30:10.882Z"
   },
   {
    "duration": 176,
    "start_time": "2025-01-19T21:30:10.892Z"
   },
   {
    "duration": 269,
    "start_time": "2025-01-19T21:30:11.070Z"
   },
   {
    "duration": 4,
    "start_time": "2025-01-19T21:30:11.340Z"
   },
   {
    "duration": 207,
    "start_time": "2025-01-19T21:30:11.346Z"
   },
   {
    "duration": 253,
    "start_time": "2025-01-19T21:30:56.271Z"
   },
   {
    "duration": 711,
    "start_time": "2025-01-19T21:31:05.910Z"
   },
   {
    "duration": 892,
    "start_time": "2025-01-19T21:31:16.278Z"
   },
   {
    "duration": 21,
    "start_time": "2025-01-19T21:31:17.173Z"
   },
   {
    "duration": 11,
    "start_time": "2025-01-19T21:31:17.196Z"
   },
   {
    "duration": 13,
    "start_time": "2025-01-19T21:31:17.210Z"
   },
   {
    "duration": 2,
    "start_time": "2025-01-19T21:31:17.225Z"
   },
   {
    "duration": 8,
    "start_time": "2025-01-19T21:31:17.229Z"
   },
   {
    "duration": 8,
    "start_time": "2025-01-19T21:31:17.239Z"
   },
   {
    "duration": 5,
    "start_time": "2025-01-19T21:31:17.271Z"
   },
   {
    "duration": 4,
    "start_time": "2025-01-19T21:31:17.278Z"
   },
   {
    "duration": 5,
    "start_time": "2025-01-19T21:31:17.285Z"
   },
   {
    "duration": 8,
    "start_time": "2025-01-19T21:31:17.291Z"
   },
   {
    "duration": 9,
    "start_time": "2025-01-19T21:31:17.300Z"
   },
   {
    "duration": 4,
    "start_time": "2025-01-19T21:31:17.310Z"
   },
   {
    "duration": 5,
    "start_time": "2025-01-19T21:31:17.316Z"
   },
   {
    "duration": 5,
    "start_time": "2025-01-19T21:31:17.323Z"
   },
   {
    "duration": 8,
    "start_time": "2025-01-19T21:31:17.372Z"
   },
   {
    "duration": 5,
    "start_time": "2025-01-19T21:31:17.381Z"
   },
   {
    "duration": 5,
    "start_time": "2025-01-19T21:31:17.389Z"
   },
   {
    "duration": 3,
    "start_time": "2025-01-19T21:31:17.396Z"
   },
   {
    "duration": 9,
    "start_time": "2025-01-19T21:31:17.401Z"
   },
   {
    "duration": 14,
    "start_time": "2025-01-19T21:31:17.417Z"
   },
   {
    "duration": 3,
    "start_time": "2025-01-19T21:31:17.433Z"
   },
   {
    "duration": 205,
    "start_time": "2025-01-19T21:31:17.438Z"
   },
   {
    "duration": 262,
    "start_time": "2025-01-19T21:31:17.646Z"
   },
   {
    "duration": 3,
    "start_time": "2025-01-19T21:31:17.910Z"
   },
   {
    "duration": 195,
    "start_time": "2025-01-19T21:31:17.915Z"
   },
   {
    "duration": 253,
    "start_time": "2025-01-19T21:34:37.272Z"
   },
   {
    "duration": 213,
    "start_time": "2025-01-19T21:36:25.269Z"
   },
   {
    "duration": 178,
    "start_time": "2025-01-19T21:38:25.345Z"
   },
   {
    "duration": 177,
    "start_time": "2025-01-19T21:39:03.591Z"
   },
   {
    "duration": 23,
    "start_time": "2025-01-19T21:48:26.690Z"
   },
   {
    "duration": 5,
    "start_time": "2025-01-19T21:55:20.704Z"
   },
   {
    "duration": 17,
    "start_time": "2025-01-19T21:55:30.597Z"
   },
   {
    "duration": 6,
    "start_time": "2025-01-19T21:57:23.642Z"
   },
   {
    "duration": 8,
    "start_time": "2025-01-19T21:57:31.349Z"
   },
   {
    "duration": 234,
    "start_time": "2025-01-19T21:57:58.770Z"
   },
   {
    "duration": 4,
    "start_time": "2025-01-19T21:58:27.505Z"
   },
   {
    "duration": 9,
    "start_time": "2025-01-19T21:58:40.162Z"
   },
   {
    "duration": 7,
    "start_time": "2025-01-19T21:59:31.918Z"
   },
   {
    "duration": 7,
    "start_time": "2025-01-19T22:02:27.107Z"
   },
   {
    "duration": 14,
    "start_time": "2025-01-19T22:04:31.418Z"
   },
   {
    "duration": 137,
    "start_time": "2025-01-19T22:04:44.529Z"
   },
   {
    "duration": 147,
    "start_time": "2025-01-19T22:06:14.852Z"
   },
   {
    "duration": 143,
    "start_time": "2025-01-19T22:07:04.305Z"
   },
   {
    "duration": 145,
    "start_time": "2025-01-19T22:09:12.426Z"
   },
   {
    "duration": 17,
    "start_time": "2025-01-19T22:11:01.505Z"
   },
   {
    "duration": 4,
    "start_time": "2025-01-19T22:11:33.118Z"
   },
   {
    "duration": 443,
    "start_time": "2025-01-19T22:11:38.294Z"
   },
   {
    "duration": 386,
    "start_time": "2025-01-19T22:12:10.212Z"
   },
   {
    "duration": 333,
    "start_time": "2025-01-19T22:12:18.005Z"
   },
   {
    "duration": 283,
    "start_time": "2025-01-19T22:12:21.122Z"
   },
   {
    "duration": 310,
    "start_time": "2025-01-19T22:12:27.118Z"
   },
   {
    "duration": 307,
    "start_time": "2025-01-19T22:12:32.517Z"
   },
   {
    "duration": 309,
    "start_time": "2025-01-19T22:12:36.724Z"
   },
   {
    "duration": 272,
    "start_time": "2025-01-19T22:12:48.427Z"
   },
   {
    "duration": 2514,
    "start_time": "2025-01-21T15:45:48.029Z"
   },
   {
    "duration": 20,
    "start_time": "2025-01-21T15:45:50.546Z"
   },
   {
    "duration": 10,
    "start_time": "2025-01-21T15:45:50.567Z"
   },
   {
    "duration": 9,
    "start_time": "2025-01-21T15:45:50.578Z"
   },
   {
    "duration": 3,
    "start_time": "2025-01-21T15:45:50.589Z"
   },
   {
    "duration": 20,
    "start_time": "2025-01-21T15:45:50.593Z"
   },
   {
    "duration": 8,
    "start_time": "2025-01-21T15:45:50.615Z"
   },
   {
    "duration": 4,
    "start_time": "2025-01-21T15:45:50.625Z"
   },
   {
    "duration": 3,
    "start_time": "2025-01-21T15:45:50.631Z"
   },
   {
    "duration": 4,
    "start_time": "2025-01-21T15:45:50.636Z"
   },
   {
    "duration": 6,
    "start_time": "2025-01-21T15:45:50.641Z"
   },
   {
    "duration": 7,
    "start_time": "2025-01-21T15:45:50.649Z"
   },
   {
    "duration": 3,
    "start_time": "2025-01-21T15:45:50.658Z"
   },
   {
    "duration": 44,
    "start_time": "2025-01-21T15:45:50.665Z"
   },
   {
    "duration": 4,
    "start_time": "2025-01-21T15:45:50.710Z"
   },
   {
    "duration": 5,
    "start_time": "2025-01-21T15:45:50.716Z"
   },
   {
    "duration": 4,
    "start_time": "2025-01-21T15:45:50.722Z"
   },
   {
    "duration": 4,
    "start_time": "2025-01-21T15:45:50.728Z"
   },
   {
    "duration": 4,
    "start_time": "2025-01-21T15:45:50.733Z"
   },
   {
    "duration": 8,
    "start_time": "2025-01-21T15:45:50.740Z"
   },
   {
    "duration": 12,
    "start_time": "2025-01-21T15:45:50.749Z"
   },
   {
    "duration": 3,
    "start_time": "2025-01-21T15:45:50.762Z"
   },
   {
    "duration": 145,
    "start_time": "2025-01-21T15:45:50.810Z"
   },
   {
    "duration": 237,
    "start_time": "2025-01-21T15:45:50.957Z"
   },
   {
    "duration": 3,
    "start_time": "2025-01-21T15:45:51.195Z"
   },
   {
    "duration": 176,
    "start_time": "2025-01-21T15:45:51.200Z"
   },
   {
    "duration": 9,
    "start_time": "2025-01-21T15:45:51.377Z"
   },
   {
    "duration": 325,
    "start_time": "2025-01-21T15:45:51.388Z"
   },
   {
    "duration": 305,
    "start_time": "2025-01-21T15:46:31.194Z"
   },
   {
    "duration": 263,
    "start_time": "2025-01-21T15:50:20.953Z"
   },
   {
    "duration": 10,
    "start_time": "2025-01-21T15:54:17.750Z"
   },
   {
    "duration": 10,
    "start_time": "2025-01-21T15:54:32.747Z"
   },
   {
    "duration": 673,
    "start_time": "2025-01-21T15:58:22.741Z"
   },
   {
    "duration": 10,
    "start_time": "2025-01-21T15:59:13.948Z"
   },
   {
    "duration": 4,
    "start_time": "2025-01-21T16:00:08.241Z"
   },
   {
    "duration": 21,
    "start_time": "2025-01-21T16:00:10.551Z"
   },
   {
    "duration": 4,
    "start_time": "2025-01-21T16:01:49.868Z"
   },
   {
    "duration": 12,
    "start_time": "2025-01-21T16:01:51.491Z"
   },
   {
    "duration": 229,
    "start_time": "2025-01-21T16:02:55.301Z"
   },
   {
    "duration": 8,
    "start_time": "2025-01-21T16:02:59.379Z"
   },
   {
    "duration": 299,
    "start_time": "2025-01-21T16:02:59.812Z"
   },
   {
    "duration": 5,
    "start_time": "2025-01-21T16:03:00.676Z"
   },
   {
    "duration": 13,
    "start_time": "2025-01-21T16:03:00.947Z"
   },
   {
    "duration": 13,
    "start_time": "2025-01-21T16:03:01.520Z"
   },
   {
    "duration": 3,
    "start_time": "2025-01-21T16:03:36.483Z"
   },
   {
    "duration": 9,
    "start_time": "2025-01-21T16:03:36.728Z"
   },
   {
    "duration": 6,
    "start_time": "2025-01-21T16:04:16.594Z"
   },
   {
    "duration": 12,
    "start_time": "2025-01-21T16:04:44.538Z"
   },
   {
    "duration": 3,
    "start_time": "2025-01-21T16:05:01.095Z"
   },
   {
    "duration": 7,
    "start_time": "2025-01-21T16:08:26.102Z"
   },
   {
    "duration": 13,
    "start_time": "2025-01-21T16:08:44.710Z"
   },
   {
    "duration": 324,
    "start_time": "2025-01-21T16:14:15.691Z"
   },
   {
    "duration": 175,
    "start_time": "2025-01-21T16:15:32.434Z"
   },
   {
    "duration": 173,
    "start_time": "2025-01-21T16:15:49.936Z"
   },
   {
    "duration": 178,
    "start_time": "2025-01-21T16:18:30.266Z"
   },
   {
    "duration": 11,
    "start_time": "2025-01-21T16:23:27.969Z"
   },
   {
    "duration": 13,
    "start_time": "2025-01-21T16:23:44.845Z"
   },
   {
    "duration": 11,
    "start_time": "2025-01-21T16:23:51.671Z"
   },
   {
    "duration": 13,
    "start_time": "2025-01-21T16:25:18.557Z"
   },
   {
    "duration": 11,
    "start_time": "2025-01-21T16:27:51.927Z"
   },
   {
    "duration": 5,
    "start_time": "2025-01-21T16:29:06.946Z"
   },
   {
    "duration": 8,
    "start_time": "2025-01-21T16:29:12.595Z"
   },
   {
    "duration": 8,
    "start_time": "2025-01-21T16:29:59.902Z"
   },
   {
    "duration": 45,
    "start_time": "2025-01-21T16:44:23.522Z"
   },
   {
    "duration": 5,
    "start_time": "2025-01-21T16:44:32.557Z"
   },
   {
    "duration": 45,
    "start_time": "2025-01-21T16:44:32.990Z"
   },
   {
    "duration": 152,
    "start_time": "2025-01-21T16:44:55.955Z"
   },
   {
    "duration": 139,
    "start_time": "2025-01-21T16:45:13.951Z"
   },
   {
    "duration": 141,
    "start_time": "2025-01-21T16:45:29.216Z"
   },
   {
    "duration": 139,
    "start_time": "2025-01-21T16:56:13.975Z"
   },
   {
    "duration": 167,
    "start_time": "2025-01-21T16:56:28.865Z"
   },
   {
    "duration": 138,
    "start_time": "2025-01-21T16:57:22.291Z"
   },
   {
    "duration": 139,
    "start_time": "2025-01-21T16:57:38.616Z"
   },
   {
    "duration": 4,
    "start_time": "2025-01-21T16:57:49.614Z"
   },
   {
    "duration": 140,
    "start_time": "2025-01-21T16:58:06.719Z"
   },
   {
    "duration": 235,
    "start_time": "2025-01-21T16:58:12.725Z"
   },
   {
    "duration": 162,
    "start_time": "2025-01-21T16:58:27.202Z"
   },
   {
    "duration": 136,
    "start_time": "2025-01-21T16:58:30.529Z"
   },
   {
    "duration": 4,
    "start_time": "2025-01-21T17:15:27.367Z"
   },
   {
    "duration": 4,
    "start_time": "2025-01-21T17:15:36.078Z"
   },
   {
    "duration": 4,
    "start_time": "2025-01-21T17:15:50.813Z"
   },
   {
    "duration": 8,
    "start_time": "2025-01-21T17:16:19.225Z"
   },
   {
    "duration": 4,
    "start_time": "2025-01-21T17:17:15.064Z"
   },
   {
    "duration": 16,
    "start_time": "2025-01-21T17:22:00.843Z"
   },
   {
    "duration": 5,
    "start_time": "2025-01-21T17:22:12.881Z"
   },
   {
    "duration": 5,
    "start_time": "2025-01-21T17:22:21.568Z"
   },
   {
    "duration": 5,
    "start_time": "2025-01-21T17:22:46.426Z"
   },
   {
    "duration": 2675,
    "start_time": "2025-01-21T20:35:32.451Z"
   },
   {
    "duration": 16,
    "start_time": "2025-01-21T20:35:35.128Z"
   },
   {
    "duration": 10,
    "start_time": "2025-01-21T20:35:35.145Z"
   },
   {
    "duration": 9,
    "start_time": "2025-01-21T20:35:35.156Z"
   },
   {
    "duration": 2,
    "start_time": "2025-01-21T20:35:35.168Z"
   },
   {
    "duration": 7,
    "start_time": "2025-01-21T20:35:35.172Z"
   },
   {
    "duration": 9,
    "start_time": "2025-01-21T20:35:35.180Z"
   },
   {
    "duration": 34,
    "start_time": "2025-01-21T20:35:35.190Z"
   },
   {
    "duration": 3,
    "start_time": "2025-01-21T20:35:35.226Z"
   },
   {
    "duration": 5,
    "start_time": "2025-01-21T20:35:35.231Z"
   },
   {
    "duration": 6,
    "start_time": "2025-01-21T20:35:35.237Z"
   },
   {
    "duration": 8,
    "start_time": "2025-01-21T20:35:35.245Z"
   },
   {
    "duration": 4,
    "start_time": "2025-01-21T20:35:35.255Z"
   },
   {
    "duration": 3,
    "start_time": "2025-01-21T20:35:35.263Z"
   },
   {
    "duration": 4,
    "start_time": "2025-01-21T20:35:35.268Z"
   },
   {
    "duration": 50,
    "start_time": "2025-01-21T20:35:35.274Z"
   },
   {
    "duration": 4,
    "start_time": "2025-01-21T20:35:35.326Z"
   },
   {
    "duration": 4,
    "start_time": "2025-01-21T20:35:35.332Z"
   },
   {
    "duration": 5,
    "start_time": "2025-01-21T20:35:35.338Z"
   },
   {
    "duration": 9,
    "start_time": "2025-01-21T20:35:35.344Z"
   },
   {
    "duration": 12,
    "start_time": "2025-01-21T20:35:35.354Z"
   },
   {
    "duration": 3,
    "start_time": "2025-01-21T20:35:35.368Z"
   },
   {
    "duration": 182,
    "start_time": "2025-01-21T20:35:35.373Z"
   },
   {
    "duration": 244,
    "start_time": "2025-01-21T20:35:35.557Z"
   },
   {
    "duration": 3,
    "start_time": "2025-01-21T20:35:35.803Z"
   },
   {
    "duration": 188,
    "start_time": "2025-01-21T20:35:35.807Z"
   },
   {
    "duration": 7,
    "start_time": "2025-01-21T20:35:35.997Z"
   },
   {
    "duration": 331,
    "start_time": "2025-01-21T20:35:36.006Z"
   },
   {
    "duration": 4,
    "start_time": "2025-01-21T20:35:36.339Z"
   },
   {
    "duration": 250,
    "start_time": "2025-01-21T20:35:36.345Z"
   },
   {
    "duration": 6,
    "start_time": "2025-01-21T20:35:36.597Z"
   },
   {
    "duration": 167,
    "start_time": "2025-01-21T20:35:36.606Z"
   },
   {
    "duration": 4,
    "start_time": "2025-01-21T20:35:36.775Z"
   },
   {
    "duration": 2635,
    "start_time": "2025-01-21T23:31:44.732Z"
   },
   {
    "duration": 17,
    "start_time": "2025-01-21T23:31:47.369Z"
   },
   {
    "duration": 8,
    "start_time": "2025-01-21T23:31:47.388Z"
   },
   {
    "duration": 12,
    "start_time": "2025-01-21T23:31:47.398Z"
   },
   {
    "duration": 3,
    "start_time": "2025-01-21T23:31:47.412Z"
   },
   {
    "duration": 10,
    "start_time": "2025-01-21T23:31:47.417Z"
   },
   {
    "duration": 8,
    "start_time": "2025-01-21T23:31:47.428Z"
   },
   {
    "duration": 4,
    "start_time": "2025-01-21T23:31:47.438Z"
   },
   {
    "duration": 4,
    "start_time": "2025-01-21T23:31:47.443Z"
   },
   {
    "duration": 4,
    "start_time": "2025-01-21T23:31:47.450Z"
   },
   {
    "duration": 6,
    "start_time": "2025-01-21T23:31:47.455Z"
   },
   {
    "duration": 47,
    "start_time": "2025-01-21T23:31:47.463Z"
   },
   {
    "duration": 5,
    "start_time": "2025-01-21T23:31:47.512Z"
   },
   {
    "duration": 4,
    "start_time": "2025-01-21T23:31:47.518Z"
   },
   {
    "duration": 4,
    "start_time": "2025-01-21T23:31:47.524Z"
   },
   {
    "duration": 5,
    "start_time": "2025-01-21T23:31:47.530Z"
   },
   {
    "duration": 4,
    "start_time": "2025-01-21T23:31:47.536Z"
   },
   {
    "duration": 4,
    "start_time": "2025-01-21T23:31:47.541Z"
   },
   {
    "duration": 4,
    "start_time": "2025-01-21T23:31:47.547Z"
   },
   {
    "duration": 7,
    "start_time": "2025-01-21T23:31:47.552Z"
   },
   {
    "duration": 51,
    "start_time": "2025-01-21T23:31:47.561Z"
   },
   {
    "duration": 4,
    "start_time": "2025-01-21T23:31:47.613Z"
   },
   {
    "duration": 168,
    "start_time": "2025-01-21T23:31:47.619Z"
   },
   {
    "duration": 224,
    "start_time": "2025-01-21T23:31:47.789Z"
   },
   {
    "duration": 3,
    "start_time": "2025-01-21T23:31:48.015Z"
   },
   {
    "duration": 184,
    "start_time": "2025-01-21T23:31:48.020Z"
   },
   {
    "duration": 7,
    "start_time": "2025-01-21T23:31:48.209Z"
   },
   {
    "duration": 301,
    "start_time": "2025-01-21T23:31:48.220Z"
   },
   {
    "duration": 3,
    "start_time": "2025-01-21T23:31:48.523Z"
   },
   {
    "duration": 188,
    "start_time": "2025-01-21T23:31:48.528Z"
   },
   {
    "duration": 4,
    "start_time": "2025-01-21T23:31:48.718Z"
   },
   {
    "duration": 161,
    "start_time": "2025-01-21T23:31:48.724Z"
   },
   {
    "duration": 8,
    "start_time": "2025-01-21T23:31:48.887Z"
   },
   {
    "duration": 8,
    "start_time": "2025-01-21T23:34:07.665Z"
   },
   {
    "duration": 12,
    "start_time": "2025-01-21T23:34:38.646Z"
   },
   {
    "duration": 9,
    "start_time": "2025-01-21T23:34:55.074Z"
   },
   {
    "duration": 3,
    "start_time": "2025-01-21T23:36:53.887Z"
   },
   {
    "duration": 5,
    "start_time": "2025-01-21T23:37:23.649Z"
   },
   {
    "duration": 11,
    "start_time": "2025-01-21T23:38:08.081Z"
   },
   {
    "duration": 190,
    "start_time": "2025-01-21T23:39:50.492Z"
   },
   {
    "duration": 136,
    "start_time": "2025-01-21T23:40:15.191Z"
   },
   {
    "duration": 351,
    "start_time": "2025-01-21T23:42:26.420Z"
   },
   {
    "duration": 152,
    "start_time": "2025-01-21T23:43:01.773Z"
   },
   {
    "duration": 134,
    "start_time": "2025-01-21T23:43:24.347Z"
   },
   {
    "duration": 257,
    "start_time": "2025-01-21T23:43:51.042Z"
   },
   {
    "duration": 164,
    "start_time": "2025-01-21T23:44:07.966Z"
   },
   {
    "duration": 308,
    "start_time": "2025-01-21T23:44:19.273Z"
   },
   {
    "duration": 276,
    "start_time": "2025-01-21T23:49:19.593Z"
   },
   {
    "duration": 2,
    "start_time": "2025-01-21T23:51:53.226Z"
   },
   {
    "duration": 8,
    "start_time": "2025-01-21T23:52:18.004Z"
   },
   {
    "duration": 4,
    "start_time": "2025-01-21T23:52:25.354Z"
   },
   {
    "duration": 245,
    "start_time": "2025-01-21T23:52:28.032Z"
   },
   {
    "duration": 269,
    "start_time": "2025-01-21T23:53:00.619Z"
   },
   {
    "duration": 4,
    "start_time": "2025-01-21T23:53:35.608Z"
   },
   {
    "duration": 4,
    "start_time": "2025-01-21T23:53:56.480Z"
   },
   {
    "duration": 5,
    "start_time": "2025-01-21T23:54:04.526Z"
   },
   {
    "duration": 4,
    "start_time": "2025-01-21T23:55:07.234Z"
   },
   {
    "duration": 5,
    "start_time": "2025-01-21T23:55:15.042Z"
   },
   {
    "duration": 183,
    "start_time": "2025-01-21T23:56:22.346Z"
   },
   {
    "duration": 826,
    "start_time": "2025-01-21T23:56:43.238Z"
   },
   {
    "duration": 15,
    "start_time": "2025-01-21T23:56:44.068Z"
   },
   {
    "duration": 9,
    "start_time": "2025-01-21T23:56:44.084Z"
   },
   {
    "duration": 14,
    "start_time": "2025-01-21T23:56:44.096Z"
   },
   {
    "duration": 3,
    "start_time": "2025-01-21T23:56:44.112Z"
   },
   {
    "duration": 9,
    "start_time": "2025-01-21T23:56:44.117Z"
   },
   {
    "duration": 8,
    "start_time": "2025-01-21T23:56:44.127Z"
   },
   {
    "duration": 5,
    "start_time": "2025-01-21T23:56:44.136Z"
   },
   {
    "duration": 3,
    "start_time": "2025-01-21T23:56:44.142Z"
   },
   {
    "duration": 3,
    "start_time": "2025-01-21T23:56:44.149Z"
   },
   {
    "duration": 8,
    "start_time": "2025-01-21T23:56:44.153Z"
   },
   {
    "duration": 51,
    "start_time": "2025-01-21T23:56:44.163Z"
   },
   {
    "duration": 3,
    "start_time": "2025-01-21T23:56:44.216Z"
   },
   {
    "duration": 4,
    "start_time": "2025-01-21T23:56:44.221Z"
   },
   {
    "duration": 4,
    "start_time": "2025-01-21T23:56:44.226Z"
   },
   {
    "duration": 5,
    "start_time": "2025-01-21T23:56:44.232Z"
   },
   {
    "duration": 4,
    "start_time": "2025-01-21T23:56:44.238Z"
   },
   {
    "duration": 4,
    "start_time": "2025-01-21T23:56:44.243Z"
   },
   {
    "duration": 4,
    "start_time": "2025-01-21T23:56:44.248Z"
   },
   {
    "duration": 7,
    "start_time": "2025-01-21T23:56:44.253Z"
   },
   {
    "duration": 52,
    "start_time": "2025-01-21T23:56:44.262Z"
   },
   {
    "duration": 3,
    "start_time": "2025-01-21T23:56:44.315Z"
   },
   {
    "duration": 153,
    "start_time": "2025-01-21T23:56:44.319Z"
   },
   {
    "duration": 228,
    "start_time": "2025-01-21T23:56:44.474Z"
   },
   {
    "duration": 3,
    "start_time": "2025-01-21T23:56:44.704Z"
   },
   {
    "duration": 208,
    "start_time": "2025-01-21T23:56:44.710Z"
   },
   {
    "duration": 8,
    "start_time": "2025-01-21T23:56:44.920Z"
   },
   {
    "duration": 367,
    "start_time": "2025-01-21T23:56:44.931Z"
   },
   {
    "duration": 4,
    "start_time": "2025-01-21T23:56:45.309Z"
   },
   {
    "duration": 177,
    "start_time": "2025-01-21T23:56:45.314Z"
   },
   {
    "duration": 4,
    "start_time": "2025-01-21T23:56:45.494Z"
   },
   {
    "duration": 150,
    "start_time": "2025-01-21T23:56:45.500Z"
   },
   {
    "duration": 5,
    "start_time": "2025-01-21T23:56:45.652Z"
   },
   {
    "duration": 151,
    "start_time": "2025-01-21T23:56:45.659Z"
   },
   {
    "duration": 273,
    "start_time": "2025-01-21T23:56:45.812Z"
   },
   {
    "duration": 214,
    "start_time": "2025-01-21T23:59:46.073Z"
   },
   {
    "duration": 10,
    "start_time": "2025-01-21T23:59:51.533Z"
   },
   {
    "duration": 8,
    "start_time": "2025-01-22T00:00:14.348Z"
   },
   {
    "duration": 14,
    "start_time": "2025-01-22T00:00:32.309Z"
   },
   {
    "duration": 10,
    "start_time": "2025-01-22T00:00:35.919Z"
   },
   {
    "duration": 4,
    "start_time": "2025-01-22T00:06:31.898Z"
   },
   {
    "duration": 4,
    "start_time": "2025-01-22T00:06:41.304Z"
   },
   {
    "duration": 3,
    "start_time": "2025-01-22T00:06:49.378Z"
   },
   {
    "duration": 4,
    "start_time": "2025-01-22T00:07:19.562Z"
   },
   {
    "duration": 5,
    "start_time": "2025-01-22T00:08:10.132Z"
   },
   {
    "duration": 4,
    "start_time": "2025-01-22T00:08:39.228Z"
   },
   {
    "duration": 4,
    "start_time": "2025-01-22T00:13:09.467Z"
   },
   {
    "duration": 5,
    "start_time": "2025-01-22T00:14:23.398Z"
   },
   {
    "duration": 5,
    "start_time": "2025-01-22T00:14:38.893Z"
   },
   {
    "duration": 2581,
    "start_time": "2025-01-22T02:12:06.123Z"
   },
   {
    "duration": 24,
    "start_time": "2025-01-22T02:12:08.706Z"
   },
   {
    "duration": 9,
    "start_time": "2025-01-22T02:12:08.732Z"
   },
   {
    "duration": 8,
    "start_time": "2025-01-22T02:12:08.743Z"
   },
   {
    "duration": 2,
    "start_time": "2025-01-22T02:12:08.755Z"
   },
   {
    "duration": 6,
    "start_time": "2025-01-22T02:12:08.759Z"
   },
   {
    "duration": 25,
    "start_time": "2025-01-22T02:12:08.767Z"
   },
   {
    "duration": 4,
    "start_time": "2025-01-22T02:12:08.793Z"
   },
   {
    "duration": 3,
    "start_time": "2025-01-22T02:12:08.799Z"
   },
   {
    "duration": 4,
    "start_time": "2025-01-22T02:12:08.803Z"
   },
   {
    "duration": 6,
    "start_time": "2025-01-22T02:12:08.809Z"
   },
   {
    "duration": 9,
    "start_time": "2025-01-22T02:12:08.816Z"
   },
   {
    "duration": 4,
    "start_time": "2025-01-22T02:12:08.827Z"
   },
   {
    "duration": 4,
    "start_time": "2025-01-22T02:12:08.834Z"
   },
   {
    "duration": 47,
    "start_time": "2025-01-22T02:12:08.839Z"
   },
   {
    "duration": 6,
    "start_time": "2025-01-22T02:12:08.888Z"
   },
   {
    "duration": 3,
    "start_time": "2025-01-22T02:12:08.896Z"
   },
   {
    "duration": 4,
    "start_time": "2025-01-22T02:12:08.900Z"
   },
   {
    "duration": 4,
    "start_time": "2025-01-22T02:12:08.905Z"
   },
   {
    "duration": 8,
    "start_time": "2025-01-22T02:12:08.910Z"
   },
   {
    "duration": 11,
    "start_time": "2025-01-22T02:12:08.921Z"
   },
   {
    "duration": 3,
    "start_time": "2025-01-22T02:12:08.933Z"
   },
   {
    "duration": 184,
    "start_time": "2025-01-22T02:12:08.937Z"
   },
   {
    "duration": 224,
    "start_time": "2025-01-22T02:12:09.123Z"
   },
   {
    "duration": 2,
    "start_time": "2025-01-22T02:12:09.350Z"
   },
   {
    "duration": 186,
    "start_time": "2025-01-22T02:12:09.354Z"
   },
   {
    "duration": 8,
    "start_time": "2025-01-22T02:12:09.542Z"
   },
   {
    "duration": 344,
    "start_time": "2025-01-22T02:12:09.552Z"
   },
   {
    "duration": 4,
    "start_time": "2025-01-22T02:12:09.898Z"
   },
   {
    "duration": 188,
    "start_time": "2025-01-22T02:12:09.904Z"
   },
   {
    "duration": 6,
    "start_time": "2025-01-22T02:12:10.094Z"
   },
   {
    "duration": 155,
    "start_time": "2025-01-22T02:12:10.102Z"
   },
   {
    "duration": 6,
    "start_time": "2025-01-22T02:12:10.259Z"
   },
   {
    "duration": 150,
    "start_time": "2025-01-22T02:12:10.267Z"
   },
   {
    "duration": 341,
    "start_time": "2025-01-22T02:12:10.418Z"
   },
   {
    "duration": 8,
    "start_time": "2025-01-22T02:12:10.760Z"
   },
   {
    "duration": 231,
    "start_time": "2025-01-22T02:26:58.284Z"
   },
   {
    "duration": 3,
    "start_time": "2025-01-22T02:27:16.710Z"
   },
   {
    "duration": 29,
    "start_time": "2025-01-22T02:27:20.233Z"
   },
   {
    "duration": 22,
    "start_time": "2025-01-22T02:27:31.930Z"
   },
   {
    "duration": 20,
    "start_time": "2025-01-22T02:27:38.902Z"
   },
   {
    "duration": 8,
    "start_time": "2025-01-22T02:39:52.564Z"
   },
   {
    "duration": 4,
    "start_time": "2025-01-22T02:39:59.371Z"
   },
   {
    "duration": 3,
    "start_time": "2025-01-22T02:40:18.672Z"
   },
   {
    "duration": 3,
    "start_time": "2025-01-22T02:40:29.654Z"
   },
   {
    "duration": 3,
    "start_time": "2025-01-22T02:40:40.516Z"
   },
   {
    "duration": 4,
    "start_time": "2025-01-22T02:40:55.424Z"
   },
   {
    "duration": 3,
    "start_time": "2025-01-22T02:41:27.779Z"
   },
   {
    "duration": 11,
    "start_time": "2025-01-22T02:45:34.715Z"
   },
   {
    "duration": 11,
    "start_time": "2025-01-22T02:53:42.167Z"
   },
   {
    "duration": 16,
    "start_time": "2025-01-22T02:54:52.649Z"
   },
   {
    "duration": 18,
    "start_time": "2025-01-22T02:56:32.860Z"
   },
   {
    "duration": 5,
    "start_time": "2025-01-22T02:56:39.695Z"
   },
   {
    "duration": 5,
    "start_time": "2025-01-22T02:56:44.061Z"
   },
   {
    "duration": 4,
    "start_time": "2025-01-22T02:57:02.055Z"
   },
   {
    "duration": 5,
    "start_time": "2025-01-22T02:57:10.567Z"
   },
   {
    "duration": 8,
    "start_time": "2025-01-22T03:00:20.300Z"
   },
   {
    "duration": 5,
    "start_time": "2025-01-22T03:08:38.609Z"
   },
   {
    "duration": 11,
    "start_time": "2025-01-22T03:17:55.045Z"
   },
   {
    "duration": 11,
    "start_time": "2025-01-22T03:19:09.550Z"
   },
   {
    "duration": 7,
    "start_time": "2025-01-22T03:26:08.854Z"
   },
   {
    "duration": 4,
    "start_time": "2025-01-22T03:26:22.018Z"
   },
   {
    "duration": 4,
    "start_time": "2025-01-22T03:26:41.952Z"
   },
   {
    "duration": 10,
    "start_time": "2025-01-22T03:32:09.136Z"
   },
   {
    "duration": 6,
    "start_time": "2025-01-22T03:33:53.357Z"
   },
   {
    "duration": 4,
    "start_time": "2025-01-22T03:34:00.452Z"
   },
   {
    "duration": 4,
    "start_time": "2025-01-22T03:34:06.659Z"
   },
   {
    "duration": 34,
    "start_time": "2025-01-22T03:37:01.786Z"
   },
   {
    "duration": 8,
    "start_time": "2025-01-22T03:38:08.323Z"
   },
   {
    "duration": 9,
    "start_time": "2025-01-22T03:38:26.616Z"
   },
   {
    "duration": 7,
    "start_time": "2025-01-22T03:38:37.542Z"
   },
   {
    "duration": 8,
    "start_time": "2025-01-22T03:39:29.348Z"
   },
   {
    "duration": 10,
    "start_time": "2025-01-22T03:39:37.889Z"
   },
   {
    "duration": 15,
    "start_time": "2025-01-22T04:04:41.699Z"
   },
   {
    "duration": 355,
    "start_time": "2025-01-22T04:05:12.337Z"
   },
   {
    "duration": 10,
    "start_time": "2025-01-22T04:05:28.291Z"
   },
   {
    "duration": 430,
    "start_time": "2025-01-22T04:07:14.138Z"
   },
   {
    "duration": 99,
    "start_time": "2025-01-22T04:07:54.920Z"
   },
   {
    "duration": 7,
    "start_time": "2025-01-22T04:08:02.083Z"
   },
   {
    "duration": 7,
    "start_time": "2025-01-22T04:08:27.260Z"
   },
   {
    "duration": 9,
    "start_time": "2025-01-22T04:10:25.900Z"
   },
   {
    "duration": 334,
    "start_time": "2025-01-22T04:11:24.073Z"
   },
   {
    "duration": 8,
    "start_time": "2025-01-22T04:13:17.935Z"
   },
   {
    "duration": 85,
    "start_time": "2025-01-22T04:14:29.108Z"
   },
   {
    "duration": 26,
    "start_time": "2025-01-22T04:18:10.656Z"
   },
   {
    "duration": 25,
    "start_time": "2025-01-22T04:18:39.151Z"
   },
   {
    "duration": 2497,
    "start_time": "2025-01-22T17:00:22.422Z"
   },
   {
    "duration": 19,
    "start_time": "2025-01-22T17:00:24.921Z"
   },
   {
    "duration": 8,
    "start_time": "2025-01-22T17:00:24.942Z"
   },
   {
    "duration": 9,
    "start_time": "2025-01-22T17:00:24.951Z"
   },
   {
    "duration": 9,
    "start_time": "2025-01-22T17:00:24.962Z"
   },
   {
    "duration": 6,
    "start_time": "2025-01-22T17:00:24.973Z"
   },
   {
    "duration": 9,
    "start_time": "2025-01-22T17:00:24.980Z"
   },
   {
    "duration": 5,
    "start_time": "2025-01-22T17:00:24.990Z"
   },
   {
    "duration": 5,
    "start_time": "2025-01-22T17:00:24.996Z"
   },
   {
    "duration": 5,
    "start_time": "2025-01-22T17:00:25.003Z"
   },
   {
    "duration": 7,
    "start_time": "2025-01-22T17:00:25.009Z"
   },
   {
    "duration": 8,
    "start_time": "2025-01-22T17:00:25.017Z"
   },
   {
    "duration": 44,
    "start_time": "2025-01-22T17:00:25.026Z"
   },
   {
    "duration": 4,
    "start_time": "2025-01-22T17:00:25.075Z"
   },
   {
    "duration": 4,
    "start_time": "2025-01-22T17:00:25.080Z"
   },
   {
    "duration": 5,
    "start_time": "2025-01-22T17:00:25.086Z"
   },
   {
    "duration": 3,
    "start_time": "2025-01-22T17:00:25.093Z"
   },
   {
    "duration": 4,
    "start_time": "2025-01-22T17:00:25.098Z"
   },
   {
    "duration": 5,
    "start_time": "2025-01-22T17:00:25.104Z"
   },
   {
    "duration": 8,
    "start_time": "2025-01-22T17:00:25.111Z"
   },
   {
    "duration": 52,
    "start_time": "2025-01-22T17:00:25.120Z"
   },
   {
    "duration": 3,
    "start_time": "2025-01-22T17:00:25.174Z"
   },
   {
    "duration": 151,
    "start_time": "2025-01-22T17:00:25.178Z"
   },
   {
    "duration": 221,
    "start_time": "2025-01-22T17:00:25.330Z"
   },
   {
    "duration": 3,
    "start_time": "2025-01-22T17:00:25.552Z"
   },
   {
    "duration": 190,
    "start_time": "2025-01-22T17:00:25.557Z"
   },
   {
    "duration": 8,
    "start_time": "2025-01-22T17:00:25.749Z"
   },
   {
    "duration": 314,
    "start_time": "2025-01-22T17:00:25.770Z"
   },
   {
    "duration": 4,
    "start_time": "2025-01-22T17:00:26.086Z"
   },
   {
    "duration": 194,
    "start_time": "2025-01-22T17:00:26.091Z"
   },
   {
    "duration": 5,
    "start_time": "2025-01-22T17:00:26.287Z"
   },
   {
    "duration": 204,
    "start_time": "2025-01-22T17:00:26.294Z"
   },
   {
    "duration": 7,
    "start_time": "2025-01-22T17:00:26.502Z"
   },
   {
    "duration": 182,
    "start_time": "2025-01-22T17:00:26.511Z"
   },
   {
    "duration": 266,
    "start_time": "2025-01-22T17:00:26.697Z"
   },
   {
    "duration": 6,
    "start_time": "2025-01-22T17:00:26.970Z"
   },
   {
    "duration": 9,
    "start_time": "2025-01-22T17:00:26.978Z"
   },
   {
    "duration": 108,
    "start_time": "2025-01-22T17:00:26.990Z"
   },
   {
    "duration": 8,
    "start_time": "2025-01-22T17:00:27.101Z"
   },
   {
    "duration": 12,
    "start_time": "2025-01-22T17:00:27.111Z"
   },
   {
    "duration": 251,
    "start_time": "2025-01-22T17:00:27.129Z"
   },
   {
    "duration": 0,
    "start_time": "2025-01-22T17:00:27.381Z"
   },
   {
    "duration": 0,
    "start_time": "2025-01-22T17:00:27.385Z"
   },
   {
    "duration": 22,
    "start_time": "2025-01-22T17:13:25.051Z"
   },
   {
    "duration": 12,
    "start_time": "2025-01-22T17:13:34.244Z"
   },
   {
    "duration": 11,
    "start_time": "2025-01-22T17:13:59.882Z"
   },
   {
    "duration": 11,
    "start_time": "2025-01-22T17:15:46.704Z"
   },
   {
    "duration": 10,
    "start_time": "2025-01-22T17:20:19.318Z"
   },
   {
    "duration": 11,
    "start_time": "2025-01-22T17:21:31.953Z"
   },
   {
    "duration": 13,
    "start_time": "2025-01-22T17:21:44.473Z"
   },
   {
    "duration": 11,
    "start_time": "2025-01-22T17:22:35.457Z"
   },
   {
    "duration": 20,
    "start_time": "2025-01-22T17:24:03.226Z"
   },
   {
    "duration": 25,
    "start_time": "2025-01-22T17:24:50.692Z"
   },
   {
    "duration": 9,
    "start_time": "2025-01-22T17:26:25.269Z"
   },
   {
    "duration": 9,
    "start_time": "2025-01-22T17:26:35.054Z"
   },
   {
    "duration": 9,
    "start_time": "2025-01-22T17:35:05.104Z"
   },
   {
    "duration": 35,
    "start_time": "2025-01-22T17:36:31.363Z"
   },
   {
    "duration": 13,
    "start_time": "2025-01-22T17:36:37.843Z"
   },
   {
    "duration": 10,
    "start_time": "2025-01-22T17:37:59.848Z"
   },
   {
    "duration": 14,
    "start_time": "2025-01-22T17:38:54.308Z"
   },
   {
    "duration": 13,
    "start_time": "2025-01-22T17:40:20.925Z"
   },
   {
    "duration": 15,
    "start_time": "2025-01-22T17:40:27.616Z"
   },
   {
    "duration": 15,
    "start_time": "2025-01-22T17:40:39.049Z"
   },
   {
    "duration": 8,
    "start_time": "2025-01-22T17:45:11.879Z"
   },
   {
    "duration": 15,
    "start_time": "2025-01-22T17:59:23.457Z"
   },
   {
    "duration": 8,
    "start_time": "2025-01-22T17:59:33.295Z"
   },
   {
    "duration": 9,
    "start_time": "2025-01-22T17:59:45.676Z"
   },
   {
    "duration": 3,
    "start_time": "2025-01-22T17:59:57.533Z"
   },
   {
    "duration": 5,
    "start_time": "2025-01-22T18:00:03.447Z"
   },
   {
    "duration": 5,
    "start_time": "2025-01-22T18:00:08.079Z"
   },
   {
    "duration": 5,
    "start_time": "2025-01-22T18:00:25.465Z"
   },
   {
    "duration": 6,
    "start_time": "2025-01-22T18:00:38.501Z"
   },
   {
    "duration": 4,
    "start_time": "2025-01-22T18:00:48.268Z"
   },
   {
    "duration": 793,
    "start_time": "2025-01-22T18:00:58.364Z"
   },
   {
    "duration": 15,
    "start_time": "2025-01-22T18:00:59.158Z"
   },
   {
    "duration": 8,
    "start_time": "2025-01-22T18:00:59.174Z"
   },
   {
    "duration": 8,
    "start_time": "2025-01-22T18:00:59.184Z"
   },
   {
    "duration": 3,
    "start_time": "2025-01-22T18:00:59.194Z"
   },
   {
    "duration": 7,
    "start_time": "2025-01-22T18:00:59.199Z"
   },
   {
    "duration": 9,
    "start_time": "2025-01-22T18:00:59.207Z"
   },
   {
    "duration": 290,
    "start_time": "2025-01-22T18:00:59.217Z"
   },
   {
    "duration": 0,
    "start_time": "2025-01-22T18:00:59.510Z"
   },
   {
    "duration": 0,
    "start_time": "2025-01-22T18:00:59.511Z"
   },
   {
    "duration": 0,
    "start_time": "2025-01-22T18:00:59.512Z"
   },
   {
    "duration": 0,
    "start_time": "2025-01-22T18:00:59.513Z"
   },
   {
    "duration": 0,
    "start_time": "2025-01-22T18:00:59.514Z"
   },
   {
    "duration": 0,
    "start_time": "2025-01-22T18:00:59.515Z"
   },
   {
    "duration": 0,
    "start_time": "2025-01-22T18:00:59.516Z"
   },
   {
    "duration": 0,
    "start_time": "2025-01-22T18:00:59.517Z"
   },
   {
    "duration": 0,
    "start_time": "2025-01-22T18:00:59.517Z"
   },
   {
    "duration": 0,
    "start_time": "2025-01-22T18:00:59.518Z"
   },
   {
    "duration": 0,
    "start_time": "2025-01-22T18:00:59.519Z"
   },
   {
    "duration": 0,
    "start_time": "2025-01-22T18:00:59.523Z"
   },
   {
    "duration": 0,
    "start_time": "2025-01-22T18:00:59.524Z"
   },
   {
    "duration": 1,
    "start_time": "2025-01-22T18:00:59.525Z"
   },
   {
    "duration": 0,
    "start_time": "2025-01-22T18:00:59.527Z"
   },
   {
    "duration": 0,
    "start_time": "2025-01-22T18:00:59.528Z"
   },
   {
    "duration": 0,
    "start_time": "2025-01-22T18:00:59.530Z"
   },
   {
    "duration": 0,
    "start_time": "2025-01-22T18:00:59.531Z"
   },
   {
    "duration": 0,
    "start_time": "2025-01-22T18:00:59.571Z"
   },
   {
    "duration": 0,
    "start_time": "2025-01-22T18:00:59.573Z"
   },
   {
    "duration": 0,
    "start_time": "2025-01-22T18:00:59.574Z"
   },
   {
    "duration": 0,
    "start_time": "2025-01-22T18:00:59.576Z"
   },
   {
    "duration": 0,
    "start_time": "2025-01-22T18:00:59.577Z"
   },
   {
    "duration": 0,
    "start_time": "2025-01-22T18:00:59.578Z"
   },
   {
    "duration": 0,
    "start_time": "2025-01-22T18:00:59.580Z"
   },
   {
    "duration": 0,
    "start_time": "2025-01-22T18:00:59.581Z"
   },
   {
    "duration": 0,
    "start_time": "2025-01-22T18:00:59.583Z"
   },
   {
    "duration": 0,
    "start_time": "2025-01-22T18:00:59.584Z"
   },
   {
    "duration": 0,
    "start_time": "2025-01-22T18:00:59.586Z"
   },
   {
    "duration": 0,
    "start_time": "2025-01-22T18:00:59.588Z"
   },
   {
    "duration": 0,
    "start_time": "2025-01-22T18:00:59.589Z"
   },
   {
    "duration": 0,
    "start_time": "2025-01-22T18:00:59.590Z"
   },
   {
    "duration": 5,
    "start_time": "2025-01-22T18:01:12.583Z"
   },
   {
    "duration": 19,
    "start_time": "2025-01-22T18:03:01.659Z"
   },
   {
    "duration": 13,
    "start_time": "2025-01-22T18:04:09.016Z"
   },
   {
    "duration": 795,
    "start_time": "2025-01-22T18:06:51.557Z"
   },
   {
    "duration": 11,
    "start_time": "2025-01-22T18:06:52.355Z"
   },
   {
    "duration": 8,
    "start_time": "2025-01-22T18:06:52.369Z"
   },
   {
    "duration": 8,
    "start_time": "2025-01-22T18:06:52.379Z"
   },
   {
    "duration": 3,
    "start_time": "2025-01-22T18:06:52.389Z"
   },
   {
    "duration": 9,
    "start_time": "2025-01-22T18:06:52.393Z"
   },
   {
    "duration": 8,
    "start_time": "2025-01-22T18:06:52.404Z"
   },
   {
    "duration": 4,
    "start_time": "2025-01-22T18:06:52.413Z"
   },
   {
    "duration": 3,
    "start_time": "2025-01-22T18:06:52.419Z"
   },
   {
    "duration": 4,
    "start_time": "2025-01-22T18:06:52.424Z"
   },
   {
    "duration": 44,
    "start_time": "2025-01-22T18:06:52.430Z"
   },
   {
    "duration": 11,
    "start_time": "2025-01-22T18:06:52.476Z"
   },
   {
    "duration": 3,
    "start_time": "2025-01-22T18:06:52.489Z"
   },
   {
    "duration": 3,
    "start_time": "2025-01-22T18:06:52.496Z"
   },
   {
    "duration": 4,
    "start_time": "2025-01-22T18:06:52.501Z"
   },
   {
    "duration": 5,
    "start_time": "2025-01-22T18:06:52.507Z"
   },
   {
    "duration": 3,
    "start_time": "2025-01-22T18:06:52.515Z"
   },
   {
    "duration": 3,
    "start_time": "2025-01-22T18:06:52.520Z"
   },
   {
    "duration": 45,
    "start_time": "2025-01-22T18:06:52.525Z"
   },
   {
    "duration": 8,
    "start_time": "2025-01-22T18:06:52.572Z"
   },
   {
    "duration": 12,
    "start_time": "2025-01-22T18:06:52.582Z"
   },
   {
    "duration": 3,
    "start_time": "2025-01-22T18:06:52.596Z"
   },
   {
    "duration": 159,
    "start_time": "2025-01-22T18:06:52.601Z"
   },
   {
    "duration": 218,
    "start_time": "2025-01-22T18:06:52.761Z"
   },
   {
    "duration": 4,
    "start_time": "2025-01-22T18:06:52.980Z"
   },
   {
    "duration": 185,
    "start_time": "2025-01-22T18:06:52.985Z"
   },
   {
    "duration": 10,
    "start_time": "2025-01-22T18:06:53.173Z"
   },
   {
    "duration": 388,
    "start_time": "2025-01-22T18:06:53.185Z"
   },
   {
    "duration": 6,
    "start_time": "2025-01-22T18:06:53.575Z"
   },
   {
    "duration": 185,
    "start_time": "2025-01-22T18:06:53.583Z"
   },
   {
    "duration": 5,
    "start_time": "2025-01-22T18:06:53.770Z"
   },
   {
    "duration": 154,
    "start_time": "2025-01-22T18:06:53.777Z"
   },
   {
    "duration": 6,
    "start_time": "2025-01-22T18:06:53.933Z"
   },
   {
    "duration": 148,
    "start_time": "2025-01-22T18:06:53.941Z"
   },
   {
    "duration": 265,
    "start_time": "2025-01-22T18:06:54.091Z"
   },
   {
    "duration": 14,
    "start_time": "2025-01-22T18:06:54.358Z"
   },
   {
    "duration": 14,
    "start_time": "2025-01-22T18:06:54.374Z"
   },
   {
    "duration": 8,
    "start_time": "2025-01-22T18:06:54.389Z"
   },
   {
    "duration": 14,
    "start_time": "2025-01-22T18:06:54.398Z"
   },
   {
    "duration": 9,
    "start_time": "2025-01-22T18:06:54.414Z"
   },
   {
    "duration": 252,
    "start_time": "2025-01-22T18:06:54.428Z"
   },
   {
    "duration": 0,
    "start_time": "2025-01-22T18:06:54.682Z"
   },
   {
    "duration": 15,
    "start_time": "2025-01-22T18:08:05.991Z"
   },
   {
    "duration": 190,
    "start_time": "2025-01-22T18:10:02.546Z"
   },
   {
    "duration": 11,
    "start_time": "2025-01-22T18:10:53.761Z"
   },
   {
    "duration": 13,
    "start_time": "2025-01-22T18:13:05.174Z"
   },
   {
    "duration": 18,
    "start_time": "2025-01-22T18:25:51.616Z"
   },
   {
    "duration": 14,
    "start_time": "2025-01-22T18:26:02.417Z"
   },
   {
    "duration": 41,
    "start_time": "2025-01-22T18:26:54.992Z"
   },
   {
    "duration": 790,
    "start_time": "2025-01-22T18:27:17.283Z"
   },
   {
    "duration": 22,
    "start_time": "2025-01-22T18:27:18.075Z"
   },
   {
    "duration": 9,
    "start_time": "2025-01-22T18:27:18.098Z"
   },
   {
    "duration": 8,
    "start_time": "2025-01-22T18:27:18.109Z"
   },
   {
    "duration": 3,
    "start_time": "2025-01-22T18:27:18.119Z"
   },
   {
    "duration": 9,
    "start_time": "2025-01-22T18:27:18.123Z"
   },
   {
    "duration": 8,
    "start_time": "2025-01-22T18:27:18.135Z"
   },
   {
    "duration": 27,
    "start_time": "2025-01-22T18:27:18.145Z"
   },
   {
    "duration": 4,
    "start_time": "2025-01-22T18:27:18.173Z"
   },
   {
    "duration": 3,
    "start_time": "2025-01-22T18:27:18.181Z"
   },
   {
    "duration": 6,
    "start_time": "2025-01-22T18:27:18.186Z"
   },
   {
    "duration": 8,
    "start_time": "2025-01-22T18:27:18.193Z"
   },
   {
    "duration": 4,
    "start_time": "2025-01-22T18:27:18.202Z"
   },
   {
    "duration": 4,
    "start_time": "2025-01-22T18:27:18.207Z"
   },
   {
    "duration": 5,
    "start_time": "2025-01-22T18:27:18.212Z"
   },
   {
    "duration": 6,
    "start_time": "2025-01-22T18:27:18.218Z"
   },
   {
    "duration": 46,
    "start_time": "2025-01-22T18:27:18.226Z"
   },
   {
    "duration": 4,
    "start_time": "2025-01-22T18:27:18.274Z"
   },
   {
    "duration": 4,
    "start_time": "2025-01-22T18:27:18.279Z"
   },
   {
    "duration": 8,
    "start_time": "2025-01-22T18:27:18.285Z"
   },
   {
    "duration": 11,
    "start_time": "2025-01-22T18:27:18.295Z"
   },
   {
    "duration": 3,
    "start_time": "2025-01-22T18:27:18.308Z"
   },
   {
    "duration": 171,
    "start_time": "2025-01-22T18:27:18.313Z"
   },
   {
    "duration": 225,
    "start_time": "2025-01-22T18:27:18.486Z"
   },
   {
    "duration": 3,
    "start_time": "2025-01-22T18:27:18.713Z"
   },
   {
    "duration": 183,
    "start_time": "2025-01-22T18:27:18.717Z"
   },
   {
    "duration": 8,
    "start_time": "2025-01-22T18:27:18.902Z"
   },
   {
    "duration": 344,
    "start_time": "2025-01-22T18:27:18.913Z"
   },
   {
    "duration": 4,
    "start_time": "2025-01-22T18:27:19.270Z"
   },
   {
    "duration": 181,
    "start_time": "2025-01-22T18:27:19.275Z"
   },
   {
    "duration": 13,
    "start_time": "2025-01-22T18:27:19.458Z"
   },
   {
    "duration": 147,
    "start_time": "2025-01-22T18:27:19.472Z"
   },
   {
    "duration": 5,
    "start_time": "2025-01-22T18:27:19.621Z"
   },
   {
    "duration": 149,
    "start_time": "2025-01-22T18:27:19.628Z"
   },
   {
    "duration": 272,
    "start_time": "2025-01-22T18:27:19.778Z"
   },
   {
    "duration": 5,
    "start_time": "2025-01-22T18:27:20.052Z"
   },
   {
    "duration": 345,
    "start_time": "2025-01-22T18:27:20.071Z"
   },
   {
    "duration": 0,
    "start_time": "2025-01-22T18:27:20.418Z"
   },
   {
    "duration": 0,
    "start_time": "2025-01-22T18:27:20.419Z"
   },
   {
    "duration": 8,
    "start_time": "2025-01-22T18:28:39.031Z"
   },
   {
    "duration": 15,
    "start_time": "2025-01-22T18:28:41.579Z"
   },
   {
    "duration": 116,
    "start_time": "2025-01-22T18:30:00.024Z"
   },
   {
    "duration": 16,
    "start_time": "2025-01-22T18:31:07.454Z"
   },
   {
    "duration": 8,
    "start_time": "2025-01-22T18:33:15.662Z"
   },
   {
    "duration": 6,
    "start_time": "2025-01-22T18:34:01.999Z"
   },
   {
    "duration": 8,
    "start_time": "2025-01-22T18:35:10.935Z"
   },
   {
    "duration": 9,
    "start_time": "2025-01-22T18:35:23.292Z"
   },
   {
    "duration": 5,
    "start_time": "2025-01-22T18:35:31.360Z"
   },
   {
    "duration": 13,
    "start_time": "2025-01-22T18:37:26.671Z"
   },
   {
    "duration": 6,
    "start_time": "2025-01-22T18:38:20.707Z"
   },
   {
    "duration": 8,
    "start_time": "2025-01-22T18:40:52.444Z"
   },
   {
    "duration": 5,
    "start_time": "2025-01-22T18:52:20.241Z"
   },
   {
    "duration": 4,
    "start_time": "2025-01-22T18:52:24.330Z"
   },
   {
    "duration": 4,
    "start_time": "2025-01-22T18:52:30.495Z"
   },
   {
    "duration": 4,
    "start_time": "2025-01-22T18:52:40.204Z"
   },
   {
    "duration": 2724,
    "start_time": "2025-01-22T22:46:41.521Z"
   },
   {
    "duration": 19,
    "start_time": "2025-01-22T22:46:44.247Z"
   },
   {
    "duration": 10,
    "start_time": "2025-01-22T22:46:44.267Z"
   },
   {
    "duration": 13,
    "start_time": "2025-01-22T22:47:34.507Z"
   },
   {
    "duration": 23,
    "start_time": "2025-01-22T22:47:37.317Z"
   },
   {
    "duration": 8,
    "start_time": "2025-01-22T22:47:44.690Z"
   },
   {
    "duration": 9,
    "start_time": "2025-01-22T22:47:54.025Z"
   },
   {
    "duration": 5,
    "start_time": "2025-01-22T22:48:02.433Z"
   },
   {
    "duration": 3,
    "start_time": "2025-01-22T22:48:03.699Z"
   },
   {
    "duration": 4,
    "start_time": "2025-01-22T22:48:04.493Z"
   },
   {
    "duration": 6,
    "start_time": "2025-01-22T22:48:04.747Z"
   },
   {
    "duration": 18,
    "start_time": "2025-01-22T22:48:05.206Z"
   },
   {
    "duration": 3,
    "start_time": "2025-01-22T22:48:06.134Z"
   },
   {
    "duration": 20,
    "start_time": "2025-01-22T22:48:07.508Z"
   },
   {
    "duration": 4,
    "start_time": "2025-01-22T22:48:07.688Z"
   },
   {
    "duration": 12,
    "start_time": "2025-01-22T22:48:11.204Z"
   },
   {
    "duration": 5,
    "start_time": "2025-01-22T22:48:12.230Z"
   },
   {
    "duration": 3,
    "start_time": "2025-01-22T22:52:09.095Z"
   },
   {
    "duration": 3,
    "start_time": "2025-01-22T22:52:09.517Z"
   },
   {
    "duration": 9,
    "start_time": "2025-01-22T22:52:10.757Z"
   },
   {
    "duration": 12,
    "start_time": "2025-01-22T22:52:22.413Z"
   },
   {
    "duration": 2,
    "start_time": "2025-01-22T22:52:22.663Z"
   },
   {
    "duration": 137,
    "start_time": "2025-01-22T22:53:58.847Z"
   },
   {
    "duration": 210,
    "start_time": "2025-01-22T22:54:04.348Z"
   },
   {
    "duration": 3,
    "start_time": "2025-01-22T22:57:49.472Z"
   },
   {
    "duration": 177,
    "start_time": "2025-01-22T22:57:50.288Z"
   },
   {
    "duration": 8,
    "start_time": "2025-01-22T23:05:46.916Z"
   },
   {
    "duration": 275,
    "start_time": "2025-01-22T23:05:47.840Z"
   },
   {
    "duration": 4,
    "start_time": "2025-01-22T23:06:22.808Z"
   },
   {
    "duration": 181,
    "start_time": "2025-01-22T23:11:15.956Z"
   },
   {
    "duration": 6,
    "start_time": "2025-01-22T23:12:05.042Z"
   },
   {
    "duration": 142,
    "start_time": "2025-01-22T23:12:05.684Z"
   },
   {
    "duration": 5,
    "start_time": "2025-01-22T23:12:20.519Z"
   },
   {
    "duration": 616,
    "start_time": "2025-01-22T23:13:15.348Z"
   },
   {
    "duration": 7,
    "start_time": "2025-01-22T23:13:39.311Z"
   },
   {
    "duration": 44,
    "start_time": "2025-01-22T23:14:28.425Z"
   },
   {
    "duration": 10,
    "start_time": "2025-01-22T23:14:35.167Z"
   },
   {
    "duration": 7,
    "start_time": "2025-01-22T23:14:49.753Z"
   },
   {
    "duration": 133,
    "start_time": "2025-01-22T23:15:01.928Z"
   },
   {
    "duration": 334,
    "start_time": "2025-01-22T23:15:03.751Z"
   },
   {
    "duration": 4,
    "start_time": "2025-01-22T23:15:23.489Z"
   },
   {
    "duration": 6,
    "start_time": "2025-01-22T23:15:35.538Z"
   },
   {
    "duration": 16,
    "start_time": "2025-01-22T23:17:44.458Z"
   },
   {
    "duration": 9,
    "start_time": "2025-01-22T23:17:56.511Z"
   },
   {
    "duration": 18,
    "start_time": "2025-01-22T23:17:59.555Z"
   },
   {
    "duration": 8,
    "start_time": "2025-01-22T23:18:02.989Z"
   },
   {
    "duration": 49,
    "start_time": "2025-01-22T23:19:14.543Z"
   },
   {
    "duration": 10,
    "start_time": "2025-01-22T23:19:23.569Z"
   },
   {
    "duration": 9,
    "start_time": "2025-01-22T23:19:48.219Z"
   },
   {
    "duration": 23,
    "start_time": "2025-01-22T23:19:58.817Z"
   },
   {
    "duration": 8,
    "start_time": "2025-01-22T23:21:01.447Z"
   }
  ],
  "kernelspec": {
   "display_name": "Python (Anaconda)",
   "language": "python",
   "name": "anaconda"
  },
  "language_info": {
   "codemirror_mode": {
    "name": "ipython",
    "version": 3
   },
   "file_extension": ".py",
   "mimetype": "text/x-python",
   "name": "python",
   "nbconvert_exporter": "python",
   "pygments_lexer": "ipython3",
   "version": "3.12.7"
  },
  "toc": {
   "base_numbering": 1,
   "nav_menu": {},
   "number_sections": true,
   "sideBar": true,
   "skip_h1_title": true,
   "title_cell": "Table of Contents",
   "title_sidebar": "Contents",
   "toc_cell": false,
   "toc_position": {},
   "toc_section_display": true,
   "toc_window_display": false
  }
 },
 "nbformat": 4,
 "nbformat_minor": 2
}
